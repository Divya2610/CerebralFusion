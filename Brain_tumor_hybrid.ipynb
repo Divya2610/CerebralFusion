{
  "cells": [
    {
      "cell_type": "markdown",
      "metadata": {
        "id": "view-in-github",
        "colab_type": "text"
      },
      "source": [
        "<a href=\"https://colab.research.google.com/github/HarshithaShetty27/CerebralFusion/blob/main/Brain_tumor_hybrid.ipynb\" target=\"_parent\"><img src=\"https://colab.research.google.com/assets/colab-badge.svg\" alt=\"Open In Colab\"/></a>"
      ]
    },
    {
      "cell_type": "code",
      "source": [
        "from google.colab import drive\n",
        "drive.mount('/content/drive')\n",
        "\n",
        "import zipfile\n",
        "zip_path = '/content/drive/MyDrive/Brain_Tumor_Dataset/brain_tumor.zip'\n",
        "extract_path = '/content/Brain_Tumor_Dataset'\n",
        "\n",
        "with zipfile.ZipFile(zip_path, 'r') as zip_ref:\n",
        "    zip_ref.extractall(extract_path)"
      ],
      "metadata": {
        "id": "7k4DJgRIMXyA",
        "colab": {
          "base_uri": "https://localhost:8080/"
        },
        "outputId": "9fbf7c1b-9d9f-4ce4-c84d-1d0fd723df9f"
      },
      "execution_count": null,
      "outputs": [
        {
          "output_type": "stream",
          "name": "stdout",
          "text": [
            "Mounted at /content/drive\n"
          ]
        }
      ]
    },
    {
      "cell_type": "code",
      "source": [
        "from google.colab import drive\n",
        "drive.mount('/content/drive')"
      ],
      "metadata": {
        "id": "KoeVQVNklQpe",
        "colab": {
          "base_uri": "https://localhost:8080/"
        },
        "outputId": "b7e9256a-b7e6-4a4b-dee6-2c0f13544866"
      },
      "execution_count": null,
      "outputs": [
        {
          "output_type": "stream",
          "name": "stdout",
          "text": [
            "Drive already mounted at /content/drive; to attempt to forcibly remount, call drive.mount(\"/content/drive\", force_remount=True).\n"
          ]
        }
      ]
    },
    {
      "cell_type": "code",
      "source": [
        "import os\n",
        "import numpy as np\n",
        "from sklearn.model_selection import train_test_split\n",
        "from tensorflow.keras.preprocessing.image import ImageDataGenerator\n",
        "\n",
        "base_dir = '/content/Brain_Tumor_Dataset'\n",
        "categories = ['glioma', 'meningioma', 'notumor', 'pituitary']\n",
        "\n",
        "# Split dataset into training, validation, and test sets\n",
        "train_dir = os.path.join(base_dir, 'Training')\n",
        "val_dir = os.path.join(base_dir, 'Validation')\n",
        "test_dir = os.path.join(base_dir, 'Testing')\n",
        "\n",
        "for category in categories:\n",
        "    os.makedirs(os.path.join(train_dir, category), exist_ok=True)\n",
        "    os.makedirs(os.path.join(val_dir, category), exist_ok=True)\n",
        "    os.makedirs(os.path.join(test_dir, category), exist_ok=True)\n",
        "\n",
        "# Use ImageDataGenerator for loading and augmentation\n",
        "datagen = ImageDataGenerator(rescale=1./255, validation_split=0.15)\n",
        "\n",
        "train_generator = datagen.flow_from_directory(\n",
        "    train_dir,\n",
        "    target_size=(224, 224),\n",
        "    batch_size=32,\n",
        "    class_mode='categorical',\n",
        "    subset='training')\n",
        "\n",
        "val_generator = datagen.flow_from_directory(\n",
        "    train_dir,\n",
        "    target_size=(224, 224),\n",
        "    batch_size=32,\n",
        "    class_mode='categorical',\n",
        "    subset='validation')\n",
        "\n",
        "test_generator = datagen.flow_from_directory(\n",
        "    test_dir,\n",
        "    target_size=(224, 224),\n",
        "    batch_size=32,\n",
        "    class_mode='categorical')"
      ],
      "metadata": {
        "id": "TDBB2cOjMZeA",
        "colab": {
          "base_uri": "https://localhost:8080/"
        },
        "outputId": "1483a36d-8ec7-4357-c1f1-33dfdb4b2850"
      },
      "execution_count": null,
      "outputs": [
        {
          "output_type": "stream",
          "name": "stdout",
          "text": [
            "Found 4857 images belonging to 4 classes.\n",
            "Found 855 images belonging to 4 classes.\n",
            "Found 1311 images belonging to 4 classes.\n"
          ]
        }
      ]
    },
    {
      "cell_type": "code",
      "source": [
        "from skimage.filters import threshold_otsu\n",
        "from skimage import img_as_ubyte\n",
        "import tensorflow as tf\n",
        "\n",
        "def preprocess_image(image):\n",
        "    # OTSU thresholding\n",
        "    thresh = threshold_otsu(image)\n",
        "    binary = image > thresh\n",
        "    binary = img_as_ubyte(binary)\n",
        "\n",
        "    # Resize and normalize\n",
        "    image = tf.image.resize(image, [224, 224])\n",
        "    image = image / 255.0\n",
        "\n",
        "    return image"
      ],
      "metadata": {
        "id": "TMk3-mX_Ma6Q"
      },
      "execution_count": null,
      "outputs": []
    },
    {
      "cell_type": "code",
      "source": [
        "datagen_aug = ImageDataGenerator(\n",
        "    rotation_range=20,\n",
        "    width_shift_range=0.2,\n",
        "    height_shift_range=0.2,\n",
        "    shear_range=0.2,\n",
        "    zoom_range=0.2,\n",
        "    horizontal_flip=True,\n",
        "    fill_mode='nearest')\n",
        "\n",
        "train_generator_aug = datagen_aug.flow_from_directory(\n",
        "    train_dir,\n",
        "    target_size=(224, 224),\n",
        "    batch_size=32,\n",
        "    class_mode='categorical')"
      ],
      "metadata": {
        "id": "2Kfx0DpVMcuc",
        "colab": {
          "base_uri": "https://localhost:8080/"
        },
        "outputId": "2710c9c6-6de8-4603-c7d5-01f256ef4356"
      },
      "execution_count": null,
      "outputs": [
        {
          "output_type": "stream",
          "name": "stdout",
          "text": [
            "Found 5712 images belonging to 4 classes.\n"
          ]
        }
      ]
    },
    {
      "cell_type": "code",
      "source": [
        "from tensorflow.keras.applications import VGG16\n",
        "from tensorflow.keras.models import Model\n",
        "from tensorflow.keras.layers import Dense, GlobalAveragePooling2D\n",
        "from google.colab import drive\n",
        "import os\n",
        "\n",
        "# Mount Google Drive\n",
        "# drive.mount('/content/drive')\n",
        "\n",
        "# Define the path to save the model in Google Drive\n",
        "model_save_path = '/content/drive/MyDrive/models/vgg16_model.h5'\n",
        "\n",
        "# Check if the model already exists\n",
        "if os.path.exists(model_save_path):\n",
        "    # Load the pre-trained model from Google Drive\n",
        "    from tensorflow.keras.models import load_model\n",
        "    model_vgg = load_model(model_save_path)\n",
        "    print(\"Model loaded from Google Drive.\")\n",
        "else:\n",
        "    # Build the VGG16 model\n",
        "    base_model = VGG16(weights='imagenet', include_top=False, input_shape=(224, 224, 3))\n",
        "    x = base_model.output\n",
        "    x = GlobalAveragePooling2D()(x)\n",
        "    x = Dense(1024, activation='relu')(x)\n",
        "    predictions = Dense(len(categories), activation='softmax')(x)\n",
        "    model_vgg = Model(inputs=base_model.input, outputs=predictions)\n",
        "\n",
        "    # Freeze the base model layers\n",
        "    for layer in base_model.layers:\n",
        "        layer.trainable = False\n",
        "\n",
        "    # Compile the model\n",
        "    model_vgg.compile(optimizer='adam', loss='categorical_crossentropy', metrics=['accuracy'])\n",
        "\n",
        "    # Train the model\n",
        "    history_vgg = model_vgg.fit(train_generator_aug, validation_data=val_generator, epochs=10)\n",
        "\n",
        "    # Save the trained model to Google Drive\n",
        "    model_vgg.save(model_save_path)\n",
        "    print(\"Model trained and saved to Google Drive.\")"
      ],
      "metadata": {
        "id": "yX998cS6Me6n",
        "colab": {
          "base_uri": "https://localhost:8080/"
        },
        "outputId": "9b257cb2-6ad5-4127-cc56-54972c3c5032"
      },
      "execution_count": null,
      "outputs": [
        {
          "metadata": {
            "tags": null
          },
          "name": "stdout",
          "output_type": "stream",
          "text": [
            "Downloading data from https://storage.googleapis.com/tensorflow/keras-applications/vgg16/vgg16_weights_tf_dim_ordering_tf_kernels_notop.h5\n",
            "\u001b[1m58889256/58889256\u001b[0m \u001b[32m━━━━━━━━━━━━━━━━━━━━\u001b[0m\u001b[37m\u001b[0m \u001b[1m0s\u001b[0m 0us/step\n"
          ]
        },
        {
          "metadata": {
            "tags": null
          },
          "name": "stderr",
          "output_type": "stream",
          "text": [
            "/usr/local/lib/python3.11/dist-packages/keras/src/trainers/data_adapters/py_dataset_adapter.py:121: UserWarning: Your `PyDataset` class should call `super().__init__(**kwargs)` in its constructor. `**kwargs` can include `workers`, `use_multiprocessing`, `max_queue_size`. Do not pass these arguments to `fit()`, as they will be ignored.\n",
            "  self._warn_if_super_not_called()\n"
          ]
        },
        {
          "output_type": "stream",
          "name": "stdout",
          "text": [
            "Epoch 1/10\n",
            "\u001b[1m179/179\u001b[0m \u001b[32m━━━━━━━━━━━━━━━━━━━━\u001b[0m\u001b[37m\u001b[0m \u001b[1m4108s\u001b[0m 23s/step - accuracy: 0.7071 - loss: 1.6566 - val_accuracy: 0.2398 - val_loss: 1.3465\n",
            "Epoch 2/10\n",
            "\u001b[1m179/179\u001b[0m \u001b[32m━━━━━━━━━━━━━━━━━━━━\u001b[0m\u001b[37m\u001b[0m \u001b[1m4087s\u001b[0m 23s/step - accuracy: 0.8834 - loss: 0.3326 - val_accuracy: 0.2316 - val_loss: 1.4051\n",
            "Epoch 3/10\n",
            "\u001b[1m 54/179\u001b[0m \u001b[32m━━━━━━\u001b[0m\u001b[37m━━━━━━━━━━━━━━\u001b[0m \u001b[1m41:02\u001b[0m 20s/step - accuracy: 0.8886 - loss: 0.3007"
          ]
        }
      ]
    },
    {
      "cell_type": "code",
      "source": [
        "from tensorflow.keras.applications import ResNet50\n",
        "\n",
        "base_model = ResNet50(weights='imagenet', include_top=False, input_shape=(224, 224, 3))\n",
        "x = base_model.output\n",
        "x = GlobalAveragePooling2D()(x)\n",
        "x = Dense(1024, activation='relu')(x)\n",
        "predictions = Dense(len(categories), activation='softmax')(x)\n",
        "model_resnet = Model(inputs=base_model.input, outputs=predictions)\n",
        "\n",
        "for layer in base_model.layers:\n",
        "    layer.trainable = False\n",
        "\n",
        "model_resnet.compile(optimizer='adam', loss='categorical_crossentropy', metrics=['accuracy'])\n",
        "history_resnet = model_resnet.fit(train_generator_aug, validation_data=val_generator, epochs=10)"
      ],
      "metadata": {
        "id": "Nw3ZfthPMhTm",
        "colab": {
          "base_uri": "https://localhost:8080/"
        },
        "outputId": "63103cd2-2b8d-4b99-e0c5-1b4dcc16525e"
      },
      "execution_count": null,
      "outputs": [
        {
          "output_type": "stream",
          "name": "stdout",
          "text": [
            "Downloading data from https://storage.googleapis.com/tensorflow/keras-applications/resnet/resnet50_weights_tf_dim_ordering_tf_kernels_notop.h5\n",
            "\u001b[1m94765736/94765736\u001b[0m \u001b[32m━━━━━━━━━━━━━━━━━━━━\u001b[0m\u001b[37m\u001b[0m \u001b[1m0s\u001b[0m 0us/step\n",
            "Epoch 1/10\n",
            "\u001b[1m179/179\u001b[0m \u001b[32m━━━━━━━━━━━━━━━━━━━━\u001b[0m\u001b[37m\u001b[0m \u001b[1m115s\u001b[0m 563ms/step - accuracy: 0.6990 - loss: 1.4003 - val_accuracy: 0.2421 - val_loss: 2.4756\n",
            "Epoch 2/10\n",
            "\u001b[1m179/179\u001b[0m \u001b[32m━━━━━━━━━━━━━━━━━━━━\u001b[0m\u001b[37m\u001b[0m \u001b[1m89s\u001b[0m 499ms/step - accuracy: 0.8866 - loss: 0.2972 - val_accuracy: 0.2795 - val_loss: 3.1026\n",
            "Epoch 3/10\n",
            "\u001b[1m179/179\u001b[0m \u001b[32m━━━━━━━━━━━━━━━━━━━━\u001b[0m\u001b[37m\u001b[0m \u001b[1m88s\u001b[0m 489ms/step - accuracy: 0.8898 - loss: 0.3044 - val_accuracy: 0.2795 - val_loss: 3.3237\n",
            "Epoch 4/10\n",
            "\u001b[1m179/179\u001b[0m \u001b[32m━━━━━━━━━━━━━━━━━━━━\u001b[0m\u001b[37m\u001b[0m \u001b[1m88s\u001b[0m 493ms/step - accuracy: 0.9150 - loss: 0.2166 - val_accuracy: 0.2550 - val_loss: 3.2220\n",
            "Epoch 5/10\n",
            "\u001b[1m179/179\u001b[0m \u001b[32m━━━━━━━━━━━━━━━━━━━━\u001b[0m\u001b[37m\u001b[0m \u001b[1m88s\u001b[0m 492ms/step - accuracy: 0.9179 - loss: 0.2087 - val_accuracy: 0.2772 - val_loss: 3.2172\n",
            "Epoch 6/10\n",
            "\u001b[1m179/179\u001b[0m \u001b[32m━━━━━━━━━━━━━━━━━━━━\u001b[0m\u001b[37m\u001b[0m \u001b[1m88s\u001b[0m 489ms/step - accuracy: 0.9246 - loss: 0.1936 - val_accuracy: 0.2035 - val_loss: 3.2005\n",
            "Epoch 7/10\n",
            "\u001b[1m179/179\u001b[0m \u001b[32m━━━━━━━━━━━━━━━━━━━━\u001b[0m\u001b[37m\u001b[0m \u001b[1m87s\u001b[0m 488ms/step - accuracy: 0.9266 - loss: 0.1951 - val_accuracy: 0.2526 - val_loss: 3.2894\n",
            "Epoch 8/10\n",
            "\u001b[1m179/179\u001b[0m \u001b[32m━━━━━━━━━━━━━━━━━━━━\u001b[0m\u001b[37m\u001b[0m \u001b[1m91s\u001b[0m 508ms/step - accuracy: 0.9270 - loss: 0.1847 - val_accuracy: 0.2316 - val_loss: 3.7280\n",
            "Epoch 9/10\n",
            "\u001b[1m179/179\u001b[0m \u001b[32m━━━━━━━━━━━━━━━━━━━━\u001b[0m\u001b[37m\u001b[0m \u001b[1m88s\u001b[0m 490ms/step - accuracy: 0.9332 - loss: 0.1820 - val_accuracy: 0.2316 - val_loss: 3.3466\n",
            "Epoch 10/10\n",
            "\u001b[1m179/179\u001b[0m \u001b[32m━━━━━━━━━━━━━━━━━━━━\u001b[0m\u001b[37m\u001b[0m \u001b[1m88s\u001b[0m 490ms/step - accuracy: 0.9418 - loss: 0.1433 - val_accuracy: 0.2994 - val_loss: 3.4548\n"
          ]
        }
      ]
    },
    {
      "cell_type": "code",
      "source": [
        "from tensorflow.keras.applications import DenseNet121\n",
        "\n",
        "base_model = DenseNet121(weights='imagenet', include_top=False, input_shape=(224, 224, 3))\n",
        "x = base_model.output\n",
        "x = GlobalAveragePooling2D()(x)\n",
        "x = Dense(1024, activation='relu')(x)\n",
        "predictions = Dense(len(categories), activation='softmax')(x)\n",
        "model_densenet = Model(inputs=base_model.input, outputs=predictions)\n",
        "\n",
        "for layer in base_model.layers:\n",
        "    layer.trainable = False\n",
        "\n",
        "model_densenet.compile(optimizer='adam', loss='categorical_crossentropy', metrics=['accuracy'])\n",
        "history_densenet = model_densenet.fit(train_generator_aug, validation_data=val_generator, epochs=10)"
      ],
      "metadata": {
        "id": "nFOBoyJaMi6y",
        "colab": {
          "base_uri": "https://localhost:8080/"
        },
        "outputId": "a860284b-30fd-4d60-c200-ef6f4e1ee8a7"
      },
      "execution_count": null,
      "outputs": [
        {
          "output_type": "stream",
          "name": "stdout",
          "text": [
            "Downloading data from https://storage.googleapis.com/tensorflow/keras-applications/densenet/densenet121_weights_tf_dim_ordering_tf_kernels_notop.h5\n",
            "\u001b[1m29084464/29084464\u001b[0m \u001b[32m━━━━━━━━━━━━━━━━━━━━\u001b[0m\u001b[37m\u001b[0m \u001b[1m0s\u001b[0m 0us/step\n",
            "Epoch 1/10\n",
            "\u001b[1m179/179\u001b[0m \u001b[32m━━━━━━━━━━━━━━━━━━━━\u001b[0m\u001b[37m\u001b[0m \u001b[1m153s\u001b[0m 690ms/step - accuracy: 0.5813 - loss: 2.3508 - val_accuracy: 0.2772 - val_loss: 1.6428\n",
            "Epoch 2/10\n",
            "\u001b[1m179/179\u001b[0m \u001b[32m━━━━━━━━━━━━━━━━━━━━\u001b[0m\u001b[37m\u001b[0m \u001b[1m95s\u001b[0m 531ms/step - accuracy: 0.7823 - loss: 0.5755 - val_accuracy: 0.4690 - val_loss: 1.3644\n",
            "Epoch 3/10\n",
            "\u001b[1m179/179\u001b[0m \u001b[32m━━━━━━━━━━━━━━━━━━━━\u001b[0m\u001b[37m\u001b[0m \u001b[1m99s\u001b[0m 554ms/step - accuracy: 0.7989 - loss: 0.5539 - val_accuracy: 0.3871 - val_loss: 1.4957\n",
            "Epoch 4/10\n",
            "\u001b[1m179/179\u001b[0m \u001b[32m━━━━━━━━━━━━━━━━━━━━\u001b[0m\u001b[37m\u001b[0m \u001b[1m90s\u001b[0m 502ms/step - accuracy: 0.8160 - loss: 0.4843 - val_accuracy: 0.4246 - val_loss: 1.3190\n",
            "Epoch 5/10\n",
            "\u001b[1m179/179\u001b[0m \u001b[32m━━━━━━━━━━━━━━━━━━━━\u001b[0m\u001b[37m\u001b[0m \u001b[1m90s\u001b[0m 500ms/step - accuracy: 0.8203 - loss: 0.4694 - val_accuracy: 0.4444 - val_loss: 1.3545\n",
            "Epoch 6/10\n",
            "\u001b[1m179/179\u001b[0m \u001b[32m━━━━━━━━━━━━━━━━━━━━\u001b[0m\u001b[37m\u001b[0m \u001b[1m86s\u001b[0m 478ms/step - accuracy: 0.8245 - loss: 0.4695 - val_accuracy: 0.4199 - val_loss: 1.5599\n",
            "Epoch 7/10\n",
            "\u001b[1m179/179\u001b[0m \u001b[32m━━━━━━━━━━━━━━━━━━━━\u001b[0m\u001b[37m\u001b[0m \u001b[1m87s\u001b[0m 486ms/step - accuracy: 0.8431 - loss: 0.3982 - val_accuracy: 0.4784 - val_loss: 1.3908\n",
            "Epoch 8/10\n",
            "\u001b[1m179/179\u001b[0m \u001b[32m━━━━━━━━━━━━━━━━━━━━\u001b[0m\u001b[37m\u001b[0m \u001b[1m89s\u001b[0m 498ms/step - accuracy: 0.8472 - loss: 0.3962 - val_accuracy: 0.4713 - val_loss: 1.3711\n",
            "Epoch 9/10\n",
            "\u001b[1m179/179\u001b[0m \u001b[32m━━━━━━━━━━━━━━━━━━━━\u001b[0m\u001b[37m\u001b[0m \u001b[1m87s\u001b[0m 487ms/step - accuracy: 0.8418 - loss: 0.4163 - val_accuracy: 0.3918 - val_loss: 1.7460\n",
            "Epoch 10/10\n",
            "\u001b[1m179/179\u001b[0m \u001b[32m━━━━━━━━━━━━━━━━━━━━\u001b[0m\u001b[37m\u001b[0m \u001b[1m86s\u001b[0m 481ms/step - accuracy: 0.8614 - loss: 0.3766 - val_accuracy: 0.3614 - val_loss: 1.7947\n"
          ]
        }
      ]
    },
    {
      "cell_type": "code",
      "source": [
        "from tensorflow.keras.models import Sequential\n",
        "from tensorflow.keras.layers import Conv2D, MaxPooling2D, Flatten, Dense\n",
        "\n",
        "model_custom = Sequential([\n",
        "    Conv2D(32, (3, 3), activation='relu', input_shape=(224, 224, 3)),\n",
        "    MaxPooling2D((2, 2)),\n",
        "    Conv2D(64, (3, 3), activation='relu'),\n",
        "    MaxPooling2D((2, 2)),\n",
        "    Conv2D(128, (3, 3), activation='relu'),\n",
        "    MaxPooling2D((2, 2)),\n",
        "    Flatten(),\n",
        "    Dense(128, activation='relu'),\n",
        "    Dense(len(categories), activation='softmax')\n",
        "])\n",
        "\n",
        "model_custom.compile(optimizer='adam', loss='categorical_crossentropy', metrics=['accuracy'])\n",
        "history_custom = model_custom.fit(train_generator_aug, validation_data=val_generator, epochs=10)"
      ],
      "metadata": {
        "id": "Qe64aBnqM0uu",
        "colab": {
          "base_uri": "https://localhost:8080/"
        },
        "outputId": "50987756-47ae-4eb1-c3a7-d9a6c0932b4e"
      },
      "execution_count": null,
      "outputs": [
        {
          "output_type": "stream",
          "name": "stderr",
          "text": [
            "/usr/local/lib/python3.11/dist-packages/keras/src/layers/convolutional/base_conv.py:107: UserWarning: Do not pass an `input_shape`/`input_dim` argument to a layer. When using Sequential models, prefer using an `Input(shape)` object as the first layer in the model instead.\n",
            "  super().__init__(activity_regularizer=activity_regularizer, **kwargs)\n"
          ]
        },
        {
          "output_type": "stream",
          "name": "stdout",
          "text": [
            "Epoch 1/10\n",
            "\u001b[1m179/179\u001b[0m \u001b[32m━━━━━━━━━━━━━━━━━━━━\u001b[0m\u001b[37m\u001b[0m \u001b[1m96s\u001b[0m 499ms/step - accuracy: 0.3806 - loss: 35.5871 - val_accuracy: 0.2316 - val_loss: 2.7371\n",
            "Epoch 2/10\n",
            "\u001b[1m179/179\u001b[0m \u001b[32m━━━━━━━━━━━━━━━━━━━━\u001b[0m\u001b[37m\u001b[0m \u001b[1m84s\u001b[0m 470ms/step - accuracy: 0.5537 - loss: 0.9984 - val_accuracy: 0.2842 - val_loss: 3.3439\n",
            "Epoch 3/10\n",
            "\u001b[1m179/179\u001b[0m \u001b[32m━━━━━━━━━━━━━━━━━━━━\u001b[0m\u001b[37m\u001b[0m \u001b[1m86s\u001b[0m 483ms/step - accuracy: 0.6091 - loss: 0.9163 - val_accuracy: 0.2386 - val_loss: 3.1976\n",
            "Epoch 4/10\n",
            "\u001b[1m179/179\u001b[0m \u001b[32m━━━━━━━━━━━━━━━━━━━━\u001b[0m\u001b[37m\u001b[0m \u001b[1m141s\u001b[0m 477ms/step - accuracy: 0.6284 - loss: 0.8801 - val_accuracy: 0.2316 - val_loss: 4.5351\n",
            "Epoch 5/10\n",
            "\u001b[1m179/179\u001b[0m \u001b[32m━━━━━━━━━━━━━━━━━━━━\u001b[0m\u001b[37m\u001b[0m \u001b[1m85s\u001b[0m 475ms/step - accuracy: 0.6745 - loss: 0.8076 - val_accuracy: 0.2316 - val_loss: 4.8935\n",
            "Epoch 6/10\n",
            "\u001b[1m179/179\u001b[0m \u001b[32m━━━━━━━━━━━━━━━━━━━━\u001b[0m\u001b[37m\u001b[0m \u001b[1m85s\u001b[0m 476ms/step - accuracy: 0.7210 - loss: 0.7079 - val_accuracy: 0.2316 - val_loss: 4.8622\n",
            "Epoch 7/10\n",
            "\u001b[1m179/179\u001b[0m \u001b[32m━━━━━━━━━━━━━━━━━━━━\u001b[0m\u001b[37m\u001b[0m \u001b[1m88s\u001b[0m 490ms/step - accuracy: 0.7322 - loss: 0.6931 - val_accuracy: 0.2316 - val_loss: 5.4068\n",
            "Epoch 8/10\n",
            "\u001b[1m179/179\u001b[0m \u001b[32m━━━━━━━━━━━━━━━━━━━━\u001b[0m\u001b[37m\u001b[0m \u001b[1m84s\u001b[0m 471ms/step - accuracy: 0.7615 - loss: 0.6119 - val_accuracy: 0.2316 - val_loss: 5.4281\n",
            "Epoch 9/10\n",
            "\u001b[1m179/179\u001b[0m \u001b[32m━━━━━━━━━━━━━━━━━━━━\u001b[0m\u001b[37m\u001b[0m \u001b[1m88s\u001b[0m 493ms/step - accuracy: 0.7541 - loss: 0.6214 - val_accuracy: 0.2316 - val_loss: 4.3230\n",
            "Epoch 10/10\n",
            "\u001b[1m179/179\u001b[0m \u001b[32m━━━━━━━━━━━━━━━━━━━━\u001b[0m\u001b[37m\u001b[0m \u001b[1m86s\u001b[0m 478ms/step - accuracy: 0.7728 - loss: 0.6228 - val_accuracy: 0.2316 - val_loss: 3.9170\n"
          ]
        }
      ]
    },
    {
      "cell_type": "code",
      "source": [
        "# from tensorflow.keras.layers import Input, Conv2D, MaxPooling2D, Dropout, UpSampling2D, concatenate\n",
        "# from tensorflow.keras.models import Model\n",
        "\n",
        "# def unet_model(input_size=(224, 224, 3)):\n",
        "#     inputs = Input(input_size)\n",
        "\n",
        "#     # Downsample path\n",
        "#     conv1 = Conv2D(64, (3, 3), activation='relu', padding='same')(inputs)\n",
        "#     conv1 = Conv2D(64, (3, 3), activation='relu', padding='same')(conv1)\n",
        "#     pool1 = MaxPooling2D(pool_size=(2, 2))(conv1)\n",
        "\n",
        "#     conv2 = Conv2D(128, (3, 3), activation='relu', padding='same')(pool1)\n",
        "#     conv2 = Conv2D(128, (3, 3), activation='relu', padding='same')(conv2)\n",
        "#     pool2 = MaxPooling2D(pool_size=(2, 2))(conv2)\n",
        "\n",
        "#     conv3 = Conv2D(256, (3, 3), activation='relu', padding='same')(pool2)\n",
        "#     conv3 = Conv2D(256, (3, 3), activation='relu', padding='same')(conv3)\n",
        "#     pool3 = MaxPooling2D(pool_size=(2, 2))(conv3)\n",
        "\n",
        "#     # Bottleneck\n",
        "#     conv4 = Conv2D(512, (3, 3), activation='relu', padding='same')(pool3)\n",
        "#     conv4 = Conv2D(512, (3, 3), activation='relu', padding='same')(conv4)\n",
        "\n",
        "#     # Upsample path\n",
        "#     up5 = UpSampling2D(size=(2, 2))(conv4)\n",
        "#     up5 = Conv2D(256, (2, 2), activation='relu', padding='same')(up5)\n",
        "#     merge5 = concatenate([conv3, up5], axis=3)\n",
        "#     conv5 = Conv2D(256, (3, 3), activation='relu', padding='same')(merge5)\n",
        "#     conv5 = Conv2D(256, (3, 3), activation='relu', padding='same')(conv5)\n",
        "\n",
        "#     up6 = UpSampling2D(size=(2, 2))(conv5)\n",
        "#     up6 = Conv2D(128, (2, 2), activation='relu', padding='same')(up6)\n",
        "#     merge6 = concatenate([conv2, up6], axis=3)\n",
        "#     conv6 = Conv2D(128, (3, 3), activation='relu', padding='same')(merge6)\n",
        "#     conv6 = Conv2D(128, (3, 3), activation='relu', padding='same')(conv6)\n",
        "\n",
        "#     up7 = UpSampling2D(size=(2, 2))(conv6)\n",
        "#     up7 = Conv2D(64, (2, 2), activation='relu', padding='same')(up7)\n",
        "#     merge7 = concatenate([conv1, up7], axis=3)\n",
        "#     conv7 = Conv2D(64, (3, 3), activation='relu', padding='same')(merge7)\n",
        "#     conv7 = Conv2D(64, (3, 3), activation='relu', padding='same')(conv7)\n",
        "\n",
        "#     # Output for segmentation\n",
        "#     outputs_seg = Conv2D(1, (1, 1), activation='sigmoid')(conv7)\n",
        "\n",
        "#     # Classification head\n",
        "#     flatten = Flatten()(conv7)\n",
        "#     dense1 = Dense(128, activation='relu')(flatten)\n",
        "#     outputs_cls = Dense(len(categories), activation='softmax')(dense1)\n",
        "\n",
        "#     model = Model(inputs=inputs, outputs=[outputs_seg, outputs_cls])\n",
        "#     return model\n",
        "\n",
        "# # Compile the model\n",
        "# model_unet = unet_model()\n",
        "# model_unet.compile(optimizer='adam',loss=['binary_crossentropy', 'categorical_crossentropy'],metrics=['accuracy'])\n",
        "\n",
        "# # Train the model\n",
        "# history_unet = model_unet.fit(train_generator_aug,validation_data=val_generator, epochs=10)\n"
      ],
      "metadata": {
        "id": "2LH4M_-_97ZM"
      },
      "execution_count": null,
      "outputs": []
    },
    {
      "cell_type": "code",
      "source": [
        "import cv2\n",
        "import numpy as np\n",
        "from sklearn.svm import SVC\n",
        "from sklearn.model_selection import train_test_split\n",
        "from sklearn.metrics import accuracy_score\n",
        "\n",
        "# Function to extract Gabor features\n",
        "def extract_gabor_features(images):\n",
        "    features = []\n",
        "    kernels = []\n",
        "    for theta in range(4):\n",
        "        theta = theta / 4. * np.pi\n",
        "        for sigma in (1, 3):\n",
        "            for lamda in np.arange(0, np.pi, np.pi / 4):\n",
        "                for gamma in (0.05, 0.5):\n",
        "                    kernel = cv2.getGaborKernel((21, 21), sigma, theta, lamda, gamma, 0, ktype=cv2.CV_32F)\n",
        "                    kernels.append(kernel)\n",
        "\n",
        "    for image in images:\n",
        "        feature_vector = []\n",
        "        for kernel in kernels:\n",
        "            filtered = cv2.filter2D(image, cv2.CV_8UC3, kernel)\n",
        "            feature_vector.append(filtered.mean())\n",
        "        features.append(feature_vector)\n",
        "    return np.array(features)\n",
        "\n",
        "# Load images and labels\n",
        "images = []\n",
        "labels = []\n",
        "for category in categories:\n",
        "    category_dir = os.path.join(train_dir, category)\n",
        "    for img_name in os.listdir(category_dir):\n",
        "        img_path = os.path.join(category_dir, img_name)\n",
        "        img = cv2.imread(img_path, cv2.IMREAD_GRAYSCALE)\n",
        "        img = cv2.resize(img, (224, 224))\n",
        "        images.append(img)\n",
        "        labels.append(categories.index(category))\n",
        "\n",
        "# Extract Gabor features\n",
        "X = extract_gabor_features(images)\n",
        "y = np.array(labels)\n",
        "\n",
        "# Split data into training and validation sets\n",
        "X_train, X_val, y_train, y_val = train_test_split(X, y, test_size=0.2, random_state=42)\n",
        "\n",
        "# Train SVM\n",
        "svm_model = SVC(kernel='linear', probability=True)\n",
        "svm_model.fit(X_train, y_train)\n",
        "\n",
        "# Evaluate SVM\n",
        "y_pred = svm_model.predict(X_val)\n",
        "print(\"SVM Accuracy:\", accuracy_score(y_val, y_pred))"
      ],
      "metadata": {
        "id": "f_PgQN-69_G1",
        "colab": {
          "base_uri": "https://localhost:8080/",
          "height": 211
        },
        "outputId": "d62b8134-feb4-4580-f71d-be7c75304a69"
      },
      "execution_count": null,
      "outputs": [
        {
          "output_type": "error",
          "ename": "NameError",
          "evalue": "name 'categories' is not defined",
          "traceback": [
            "\u001b[0;31m---------------------------------------------------------------------------\u001b[0m",
            "\u001b[0;31mNameError\u001b[0m                                 Traceback (most recent call last)",
            "\u001b[0;32m<ipython-input-1-25e84820783a>\u001b[0m in \u001b[0;36m<cell line: 0>\u001b[0;34m()\u001b[0m\n\u001b[1;32m     28\u001b[0m \u001b[0mimages\u001b[0m \u001b[0;34m=\u001b[0m \u001b[0;34m[\u001b[0m\u001b[0;34m]\u001b[0m\u001b[0;34m\u001b[0m\u001b[0;34m\u001b[0m\u001b[0m\n\u001b[1;32m     29\u001b[0m \u001b[0mlabels\u001b[0m \u001b[0;34m=\u001b[0m \u001b[0;34m[\u001b[0m\u001b[0;34m]\u001b[0m\u001b[0;34m\u001b[0m\u001b[0;34m\u001b[0m\u001b[0m\n\u001b[0;32m---> 30\u001b[0;31m \u001b[0;32mfor\u001b[0m \u001b[0mcategory\u001b[0m \u001b[0;32min\u001b[0m \u001b[0mcategories\u001b[0m\u001b[0;34m:\u001b[0m\u001b[0;34m\u001b[0m\u001b[0;34m\u001b[0m\u001b[0m\n\u001b[0m\u001b[1;32m     31\u001b[0m     \u001b[0mcategory_dir\u001b[0m \u001b[0;34m=\u001b[0m \u001b[0mos\u001b[0m\u001b[0;34m.\u001b[0m\u001b[0mpath\u001b[0m\u001b[0;34m.\u001b[0m\u001b[0mjoin\u001b[0m\u001b[0;34m(\u001b[0m\u001b[0mtrain_dir\u001b[0m\u001b[0;34m,\u001b[0m \u001b[0mcategory\u001b[0m\u001b[0;34m)\u001b[0m\u001b[0;34m\u001b[0m\u001b[0;34m\u001b[0m\u001b[0m\n\u001b[1;32m     32\u001b[0m     \u001b[0;32mfor\u001b[0m \u001b[0mimg_name\u001b[0m \u001b[0;32min\u001b[0m \u001b[0mos\u001b[0m\u001b[0;34m.\u001b[0m\u001b[0mlistdir\u001b[0m\u001b[0;34m(\u001b[0m\u001b[0mcategory_dir\u001b[0m\u001b[0;34m)\u001b[0m\u001b[0;34m:\u001b[0m\u001b[0;34m\u001b[0m\u001b[0;34m\u001b[0m\u001b[0m\n",
            "\u001b[0;31mNameError\u001b[0m: name 'categories' is not defined"
          ]
        }
      ]
    },
    {
      "cell_type": "code",
      "source": [
        "from sklearn.ensemble import RandomForestClassifier\n",
        "from skimage.feature import hog\n",
        "from skimage import exposure\n",
        "import numpy as np\n",
        "from sklearn.model_selection import train_test_split\n",
        "from sklearn.metrics import accuracy_score\n",
        "\n",
        "\n",
        "def extract_hog_features(images):\n",
        "    features = []\n",
        "    for image in images:\n",
        "        # Convert RGB image to grayscale if necessary\n",
        "        if len(image.shape) == 3 and image.shape[2] == 3:  # Check if image is RGB\n",
        "            image = cv2.cvtColor(image, cv2.COLOR_RGB2GRAY)\n",
        "        # Extract HOG features\n",
        "        fd, hog_image = hog(image, pixels_per_cell=(8, 8), cells_per_block=(2, 2), visualize=True, channel_axis=None)\n",
        "        features.append(fd)\n",
        "    return np.array(features)\n",
        "\n",
        "# Load images and labels\n",
        "images = []\n",
        "labels = []\n",
        "for category in categories:\n",
        "    category_dir = os.path.join(train_dir, category)\n",
        "    for img_name in os.listdir(category_dir):\n",
        "        img_path = os.path.join(category_dir, img_name)\n",
        "        img = cv2.imread(img_path, cv2.IMREAD_GRAYSCALE)  # Load image in grayscale\n",
        "        img = cv2.resize(img, (224, 224))  # Resize image\n",
        "        images.append(img)\n",
        "        labels.append(categories.index(category))\n",
        "\n",
        "# Extract HOG features\n",
        "X_hog = extract_hog_features(images)\n",
        "y = np.array(labels)\n",
        "\n",
        "# Split data into training and validation sets\n",
        "X_train, X_val, y_train, y_val = train_test_split(X_hog, y, test_size=0.2, random_state=42)\n",
        "\n",
        "# Train Random Forest\n",
        "rf_model = RandomForestClassifier(n_estimators=100, random_state=42)\n",
        "rf_model.fit(X_train, y_train)\n",
        "\n",
        "# Evaluate Random Forest\n",
        "y_pred = rf_model.predict(X_val)\n",
        "print(\"Random Forest Accuracy:\", accuracy_score(y_val, y_pred))\n",
        "print(\"Random Forest Accuracy:\", accuracy_score(y_val, y_pred))"
      ],
      "metadata": {
        "id": "2o_aGNT59-03"
      },
      "execution_count": null,
      "outputs": []
    },
    {
      "cell_type": "code",
      "source": [
        "import numpy as np\n",
        "from sklearn.metrics import accuracy_score, f1_score, roc_auc_score\n",
        "\n",
        "# Function to evaluate a model\n",
        "def evaluate_model(model, X_val, y_val, is_deep_learning=False):\n",
        "    if is_deep_learning:\n",
        "        y_pred_proba = model.predict(X_val)\n",
        "        y_pred = np.argmax(y_pred_proba, axis=1)\n",
        "        y_val = np.argmax(y_val, axis=1)  # Convert one-hot to integer labels\n",
        "    else:\n",
        "        y_pred = model.predict(X_val)\n",
        "        y_pred_proba = model.predict_proba(X_val)  # For binary classification\n",
        "\n",
        "    accuracy = accuracy_score(y_val, y_pred)\n",
        "    f1 = f1_score(y_val, y_pred, average='weighted')\n",
        "    # Handle AUC-ROC correctly for multi-class classification\n",
        "    if len(np.unique(y_val)) > 2:  # Multi-class case\n",
        "        auc_roc = roc_auc_score(y_val, y_pred_proba, multi_class='ovr')\n",
        "    else:  # Binary case\n",
        "        auc_roc = roc_auc_score(y_val, y_pred_proba[:, 1])  # Take probability of class 1\n",
        "    return accuracy, f1, auc_roc\n",
        "\n",
        "# Evaluate all models\n",
        "models = {\n",
        "    'VGG16': model_vgg,\n",
        "    'ResNet50': model_resnet,\n",
        "    'DenseNet': model_densenet,\n",
        "    'CNN': model_custom,\n",
        "    'SVM': svm_model,\n",
        "    'RandomForest': rf_model\n",
        "}\n",
        "\n",
        "results = {}\n",
        "# Get the full validation data\n",
        "X_val_dl_full = []\n",
        "y_val_dl_full = []\n",
        "for i in range(len(val_generator)):\n",
        "    X_batch, y_batch = val_generator[i]\n",
        "    X_val_dl_full.append(X_batch)\n",
        "    y_val_dl_full.append(y_batch)\n",
        "X_val_dl_full = np.vstack(X_val_dl_full)\n",
        "y_val_dl_full = np.vstack(y_val_dl_full)\n",
        "\n",
        "# Convert RGB images to grayscale for HOG feature extraction\n",
        "X_val_dl_gray = np.array([cv2.cvtColor(img, cv2.COLOR_RGB2GRAY) if len(img.shape) == 3 else img for img in X_val_dl_full])\n",
        "\n",
        "# Extract features for SVM and Random Forest\n",
        "X_val_gabor = extract_gabor_features(X_val_dl_full)  # Gabor features for SVM\n",
        "X_val_hog = extract_hog_features(X_val_dl_gray)  # HOG features for Random Forest\n",
        "\n",
        "# Evaluate each model\n",
        "for name, model in models.items():\n",
        "    if name in ['VGG16', 'ResNet50', 'DenseNet', 'CNN']:\n",
        "        # For deep learning models, use the full validation data\n",
        "        accuracy, f1, auc_roc = evaluate_model(model, X_val_dl_full, y_val_dl_full, is_deep_learning=True)\n",
        "    else:\n",
        "        # For SVM and Random Forest, use the feature-extracted validation set\n",
        "        if name == 'SVM':\n",
        "            X_val_fe = X_val_gabor  # Use Gabor features for SVM\n",
        "        else:\n",
        "            X_val_fe = X_val_hog  # Use HOG features for Random Forest\n",
        "        accuracy, f1, auc_roc = evaluate_model(model, X_val_fe, np.argmax(y_val_dl_full, axis=1), is_deep_learning=False)\n",
        "    results[name] = {'Accuracy': accuracy, 'F1-Score': f1, 'AUC-ROC': auc_roc}\n",
        "\n",
        "# Convert results to a DataFrame for easy comparison\n",
        "import pandas as pd\n",
        "results_df = pd.DataFrame(results).T\n",
        "print(\"Model Performance:\")\n",
        "print(results_df)\n",
        "\n",
        "# Dynamically select top 3 models based on a combined score (e.g., average of normalized metrics)\n",
        "results_df['Combined_Score'] = (results_df['Accuracy'] + results_df['F1-Score'] + results_df['AUC-ROC']) / 3\n",
        "top_3_models = results_df.nlargest(3, 'Combined_Score').index.tolist()\n",
        "print(\"\\nTop 3 Models:\",top_3_models)"
      ],
      "metadata": {
        "id": "Z-WriyTuKLNq"
      },
      "execution_count": null,
      "outputs": []
    },
    {
      "cell_type": "code",
      "source": [
        "# Get predictions from top 3 models\n",
        "y_preds = []\n",
        "for model_name in top_3_models:\n",
        "    model = models[model_name]\n",
        "    if model_name in ['VGG16', 'ResNet50', 'DenseNet', 'CNN']:\n",
        "        # For deep learning models, use the full validation data\n",
        "        y_pred_proba = model.predict(X_val_dl_full)\n",
        "    else:\n",
        "        # For SVM and Random Forest, use the feature-extracted validation set\n",
        "        if model_name == 'SVM':\n",
        "            X_val_fe = X_val_gabor  # Use Gabor features for SVM\n",
        "        else:\n",
        "            X_val_fe = X_val_hog  # Use HOG features for Random Forest\n",
        "        y_pred_proba = model.predict_proba(X_val_fe)\n",
        "    y_preds.append(y_pred_proba)"
      ],
      "metadata": {
        "id": "DlSzFtQJKK36"
      },
      "execution_count": null,
      "outputs": []
    },
    {
      "cell_type": "code",
      "source": [
        "# Weighted averaging (weights based on model performance)\n",
        "weights = results_df.loc[top_3_models, 'Combined_Score'].values\n",
        "weights /= weights.sum()  # Normalize weights\n",
        "y_weighted_avg = np.average(y_preds, axis=0, weights=weights)\n",
        "y_weighted_avg_classes = np.argmax(y_weighted_avg, axis=1)\n",
        "\n",
        "# Evaluate weighted averaging hybrid model\n",
        "accuracy_weighted = accuracy_score(np.argmax(y_val_dl_full, axis=1), y_weighted_avg_classes)\n",
        "f1_weighted = f1_score(np.argmax(y_val_dl_full, axis=1), y_weighted_avg_classes, average='weighted')\n",
        "auc_roc_weighted = roc_auc_score(np.argmax(y_val_dl_full, axis=1), y_weighted_avg, multi_class='ovr')\n",
        "print(\"\\nWeighted Averaging Hybrid Model Performance:\")\n",
        "print(f\"Accuracy: {accuracy_weighted}, F1-Score: {f1_weighted}, AUC-ROC: {auc_roc_weighted}\")"
      ],
      "metadata": {
        "id": "z9e0WypedOd0"
      },
      "execution_count": null,
      "outputs": []
    },
    {
      "cell_type": "code",
      "source": [
        "from sklearn.linear_model import LogisticRegression\n",
        "\n",
        "# Stack predictions from top 3 models\n",
        "X_stack = np.hstack(y_preds)\n",
        "\n",
        "# Train a meta-learner (Logistic Regression)\n",
        "meta_learner = LogisticRegression()\n",
        "meta_learner.fit(X_stack, np.argmax(y_val_dl_full, axis=1))\n",
        "\n",
        "# Evaluate stacking hybrid model\n",
        "y_stack_pred = meta_learner.predict(X_stack)\n",
        "y_stack_pred_proba = meta_learner.predict_proba(X_stack)\n",
        "\n",
        "accuracy_stack = accuracy_score(np.argmax(y_val_dl_full, axis=1), y_stack_pred)\n",
        "f1_stack = f1_score(np.argmax(y_val_dl_full, axis=1), y_stack_pred, average='weighted')\n",
        "auc_roc_stack = roc_auc_score(np.argmax(y_val_dl_full, axis=1), y_stack_pred_proba, multi_class='ovr')\n",
        "print(\"\\nStacking Hybrid Model Performance:\")\n",
        "print(f\"Accuracy: {accuracy_stack}, F1-Score: {f1_stack}, AUC-ROC: {auc_roc_stack}\")"
      ],
      "metadata": {
        "id": "kqbsvn9ZdYcC"
      },
      "execution_count": null,
      "outputs": []
    },
    {
      "cell_type": "code",
      "source": [
        "from scipy.stats import mode\n",
        "\n",
        "# Majority voting\n",
        "y_pred_classes = np.array([np.argmax(y_pred, axis=1) for y_pred in y_preds])  # Stack predictions into a 2D array\n",
        "print(\"Shape of y_pred_classes:\", y_pred_classes.shape)  # Verify the shape\n",
        "\n",
        "y_majority_vote, _ = mode(y_pred_classes, axis=0)  # Apply mode along the correct axis\n",
        "y_majority_vote = y_majority_vote.flatten()  # Flatten the result to get 1D array\n",
        "\n",
        "# Compute average probability predictions for AUC-ROC\n",
        "y_avg_proba = np.mean(y_preds, axis=0)  # Average probabilities across models\n",
        "\n",
        "# Verify shapes\n",
        "print(\"Shape of y_avg_proba:\", y_avg_proba.shape)\n",
        "print(\"Shape of y_val_dl_full:\", y_val_dl_full.shape)\n",
        "\n",
        "# Evaluate majority voting hybrid model\n",
        "accuracy_majority = accuracy_score(np.argmax(y_val_dl_full, axis=1), y_majority_vote)\n",
        "f1_majority = f1_score(np.argmax(y_val_dl_full, axis=1), y_majority_vote, average='weighted')\n",
        "auc_roc_majority = roc_auc_score(np.argmax(y_val_dl_full, axis=1), y_avg_proba, multi_class='ovr')\n",
        "print(\"\\nMajority Voting Hybrid Model Performance:\")\n",
        "print(f\"Accuracy: {accuracy_majority}, F1-Score: {f1_majority}, AUC-ROC: {auc_roc_majority}\")"
      ],
      "metadata": {
        "id": "xZQgLuNqdgHS"
      },
      "execution_count": null,
      "outputs": []
    },
    {
      "cell_type": "code",
      "source": [
        "# Compare hybrid model results\n",
        "hybrid_results = {\n",
        "    'Weighted Averaging': {'Accuracy': accuracy_weighted, 'F1-Score': f1_weighted, 'AUC-ROC': auc_roc_weighted},\n",
        "    'Stacking': {'Accuracy': accuracy_stack, 'F1-Score': f1_stack, 'AUC-ROC': auc_roc_stack},\n",
        "    'Majority Voting': {'Accuracy': accuracy_majority, 'F1-Score': f1_majority, 'AUC-ROC': auc_roc_majority}\n",
        "}\n",
        "\n",
        "# Convert to DataFrame for easy comparison\n",
        "hybrid_results_df = pd.DataFrame(hybrid_results).T\n",
        "hybrid_results_df['Combined_Score'] = (hybrid_results_df['Accuracy'] + hybrid_results_df['F1-Score'] + hybrid_results_df['AUC-ROC']) / 3\n",
        "print(\"Hybrid Model Performance:\")\n",
        "print(hybrid_results_df)\n",
        "\n",
        "# Select the best hybrid model\n",
        "best_hybrid_model = hybrid_results_df.idxmax()['Combined_Score']\n",
        "print(\"\\nBest Hybrid Model:\", best_hybrid_model)"
      ],
      "metadata": {
        "id": "FO7edBjefkeH"
      },
      "execution_count": null,
      "outputs": []
    },
    {
      "cell_type": "code",
      "source": [
        "# Get the full test data\n",
        "X_test_dl_full = []\n",
        "y_test_dl_full = []\n",
        "for i in range(len(test_generator)):\n",
        "    X_batch, y_batch = test_generator[i]\n",
        "    X_test_dl_full.append(X_batch)\n",
        "    y_test_dl_full.append(y_batch)\n",
        "X_test_dl_full = np.vstack(X_test_dl_full)\n",
        "y_test_dl_full = np.vstack(y_test_dl_full)\n",
        "\n",
        "# Convert RGB images to grayscale for HOG feature extraction (if needed)\n",
        "X_test_dl_gray = np.array([cv2.cvtColor(img, cv2.COLOR_RGB2GRAY) if len(img.shape) == 3 else img for img in X_test_dl_full])\n",
        "\n",
        "# Extract features for SVM and Random Forest\n",
        "X_test_gabor = extract_gabor_features(X_test_dl_full)  # Gabor features for SVM\n",
        "X_test_hog = extract_hog_features(X_test_dl_gray)  # HOG features for Random Forest"
      ],
      "metadata": {
        "id": "tsKUUcnJf7hu"
      },
      "execution_count": null,
      "outputs": []
    },
    {
      "cell_type": "code",
      "source": [
        "if best_hybrid_model == 'Weighted Averaging':\n",
        "    # Get predictions from top 3 models for the test set\n",
        "    y_preds_test = []\n",
        "    for model_name in top_3_models:\n",
        "        model = models[model_name]\n",
        "        if model_name in ['VGG16', 'ResNet50', 'DenseNet', 'CNN']:\n",
        "            y_pred_proba = model.predict(X_test_dl_full)\n",
        "        else:\n",
        "            if model_name == 'SVM':\n",
        "                X_test_fe = X_test_gabor  # Use Gabor features for SVM\n",
        "            else:\n",
        "                X_test_fe = X_test_hog  # Use HOG features for Random Forest\n",
        "            y_pred_proba = model.predict_proba(X_test_fe)\n",
        "        y_preds_test.append(y_pred_proba)\n",
        "\n",
        "    # Weighted averaging (weights based on model performance)\n",
        "    weights = results_df.loc[top_3_models, 'Combined_Score'].values\n",
        "    weights /= weights.sum()  # Normalize weights\n",
        "    y_weighted_avg_test = np.average(y_preds_test, axis=0, weights=weights)\n",
        "    y_weighted_avg_classes_test = np.argmax(y_weighted_avg_test, axis=1)\n",
        "\n",
        "    # Evaluate weighted averaging hybrid model on the test set\n",
        "    accuracy_test = accuracy_score(np.argmax(y_test_dl_full, axis=1), y_weighted_avg_classes_test)\n",
        "    f1_test = f1_score(np.argmax(y_test_dl_full, axis=1), y_weighted_avg_classes_test, average='weighted')\n",
        "    auc_roc_test = roc_auc_score(np.argmax(y_test_dl_full, axis=1), y_weighted_avg_test, multi_class='ovr')\n",
        "    print(\"\\nWeighted Averaging Hybrid Model Performance on Test Set:\")\n",
        "    print(f\"Accuracy: {accuracy_test}, F1-Score: {f1_test}, AUC-ROC: {auc_roc_test}\")\n",
        "\n",
        "elif best_hybrid_model == 'Stacking':\n",
        "    # Get predictions from top 3 models for the test set\n",
        "    y_preds_test = []\n",
        "    for model_name in top_3_models:\n",
        "        model = models[model_name]\n",
        "        if model_name in ['VGG16', 'ResNet50', 'DenseNet', 'CNN']:\n",
        "            y_pred_proba = model.predict(X_test_dl_full)\n",
        "        else:\n",
        "            if model_name == 'SVM':\n",
        "                X_test_fe = X_test_gabor  # Use Gabor features for SVM\n",
        "            else:\n",
        "                X_test_fe = X_test_hog  # Use HOG features for Random Forest\n",
        "            y_pred_proba = model.predict_proba(X_test_fe)\n",
        "        y_preds_test.append(y_pred_proba)\n",
        "        # Stack predictions\n",
        "    X_stack_test = np.hstack(y_preds_test)\n",
        "\n",
        "    # Evaluate stacking hybrid model on the test set\n",
        "    y_stack_pred_test = meta_learner.predict(X_stack_test)\n",
        "    y_stack_pred_proba_test = meta_learner.predict_proba(X_stack_test)\n",
        "\n",
        "    accuracy_test = accuracy_score(np.argmax(y_test_dl_full, axis=1), y_stack_pred_test)\n",
        "    f1_test = f1_score(np.argmax(y_test_dl_full, axis=1), y_stack_pred_test, average='weighted')\n",
        "    auc_roc_test = roc_auc_score(np.argmax(y_test_dl_full, axis=1), y_stack_pred_proba_test, multi_class='ovr')\n",
        "    print(\"\\nStacking Hybrid Model Performance on Test Set:\")\n",
        "    print(f\"Accuracy: {accuracy_test}, F1-Score: {f1_test}, AUC-ROC: {auc_roc_test}\")\n",
        "\n",
        "elif best_hybrid_model == 'Majority Voting':\n",
        "    # Get predictions from top 3 models for the test set\n",
        "    y_preds_test = []\n",
        "    for model_name in top_3_models:\n",
        "        model = models[model_name]\n",
        "        if model_name in ['VGG16', 'ResNet50', 'DenseNet', 'CNN']:\n",
        "            y_pred_proba = model.predict(X_test_dl_full)\n",
        "        else:\n",
        "            if model_name == 'SVM':\n",
        "                X_test_fe = X_test_gabor  # Use Gabor features for SVM\n",
        "            else:\n",
        "                X_test_fe = X_test_hog  # Use HOG features for Random Forest\n",
        "            y_pred_proba = model.predict_proba(X_test_fe)\n",
        "        y_preds_test.append(y_pred_proba)\n",
        "\n",
        "    # Majority voting\n",
        "    y_pred_classes_test = np.array([np.argmax(y_pred, axis=1) for y_pred in y_preds_test])\n",
        "    y_majority_vote_test, _ = mode(y_pred_classes_test, axis=0)\n",
        "    y_majority_vote_test = y_majority_vote_test.flatten()\n",
        "  # Evaluate majority voting hybrid model on the test set\n",
        "    accuracy_test = accuracy_score(np.argmax(y_test_dl_full, axis=1), y_majority_vote_test)\n",
        "    f1_test = f1_score(np.argmax(y_test_dl_full, axis=1), y_majority_vote_test, average='weighted')\n",
        "    auc_roc_test = roc_auc_score(np.argmax(y_test_dl_full, axis=1), np.mean(y_preds_test, axis=0), multi_class='ovr')\n",
        "    print(\"\\nMajority Voting Hybrid Model Performance on Test Set:\")\n",
        "    print(f\"Accuracy: {accuracy_test}, F1-Score: {f1_test}, AUC-ROC: {auc_roc_test}\")\n"
      ],
      "metadata": {
        "id": "lXz-Gbnqh0sY"
      },
      "execution_count": null,
      "outputs": []
    },
    {
      "cell_type": "code",
      "source": [
        "import joblib\n",
        "\n",
        "# Save the best hybrid model\n",
        "if best_hybrid_model == 'Weighted Averaging':\n",
        "    # Save the top 3 models\n",
        "    for model_name in top_3_models:\n",
        "        model = models[model_name]\n",
        "        if model_name in ['VGG16', 'ResNet50', 'DenseNet', 'CNN']:\n",
        "            model.save(f'{model_name}_model.h5')\n",
        "        else:\n",
        "            joblib.dump(model, f'{model_name}_model.pkl')\n",
        "elif best_hybrid_model == 'Stacking':\n",
        "    # Save the meta-learner and top 3 models\n",
        "    joblib.dump(meta_learner, 'stacking_meta_learner.pkl')\n",
        "    for model_name in top_3_models:\n",
        "        model = models[model_name]\n",
        "        if model_name in ['VGG16', 'ResNet50', 'DenseNet', 'CNN']:\n",
        "            model.save(f'{model_name}_model.h5')\n",
        "        else:\n",
        "            joblib.dump(model, f'{model_name}_model.pkl')\n",
        "elif best_hybrid_model == 'Majority Voting':\n",
        "    # Save the top 3 models\n",
        "    for model_name in top_3_models:\n",
        "        model = models[model_name]\n",
        "        if model_name in ['VGG16', 'ResNet50', 'DenseNet', 'CNN']:\n",
        "            model.save(f'{model_name}_model.h5')\n",
        "        else:\n",
        "            joblib.dump(model, f'{model_name}_model.pkl')"
      ],
      "metadata": {
        "id": "OMMFPjzDjQ26"
      },
      "execution_count": null,
      "outputs": []
    },
    {
      "cell_type": "code",
      "source": [
        "import cv2\n",
        "import numpy as np\n",
        "import joblib\n",
        "from tensorflow.keras.models import load_model\n",
        "from scipy.stats import mode\n",
        "from tkinter import Tk\n",
        "from tkinter.filedialog import askopenfilename\n",
        "\n",
        "def predict_with_hybrid_model(image_path):\n",
        "    # Load the image and preprocess it\n",
        "    img = cv2.imread(image_path, cv2.IMREAD_GRAYSCALE)\n",
        "    img = cv2.resize(img, (224, 224))\n",
        "    img = img / 255.0  # Normalize\n",
        "    img = np.expand_dims(img, axis=0)  # Add batch dimension\n",
        "\n",
        "    # Load the top 3 models\n",
        "    top_models = {}\n",
        "    for model_name in top_3_models:\n",
        "        if model_name in ['VGG16', 'ResNet50', 'DenseNet', 'CNN']:\n",
        "            top_models[model_name] = load_model(f'{model_name}_model.h5')\n",
        "        else:\n",
        "            top_models[model_name] = joblib.load(f'{model_name}_model.pkl')\n",
        "\n",
        "    # Get predictions from the top 3 models\n",
        "    y_preds = []\n",
        "    for model_name, model in top_models.items():\n",
        "        if model_name in ['VGG16', 'ResNet50', 'DenseNet', 'CNN']:\n",
        "            y_pred_proba = model.predict(img)\n",
        "        else:\n",
        "            if model_name == 'SVM':\n",
        "                features = extract_gabor_features(img)\n",
        "            else:\n",
        "                features = extract_hog_features(img)\n",
        "            y_pred_proba = model.predict_proba(features)\n",
        "        y_preds.append(y_pred_proba)\n",
        "\n",
        "    # Combine predictions based on the best hybrid model\n",
        "    if best_hybrid_model == 'Weighted Averaging':\n",
        "        weights = results_df.loc[top_3_models, 'Combined_Score'].values\n",
        "        weights /= weights.sum()  # Normalize weights\n",
        "        y_weighted_avg = np.average(y_preds, axis=0, weights=weights)\n",
        "        final_pred = np.argmax(y_weighted_avg, axis=1)\n",
        "    elif best_hybrid_model == 'Stacking':\n",
        "        X_stack = np.hstack(y_preds)\n",
        "        meta_learner = joblib.load('stacking_meta_learner.pkl')\n",
        "        final_pred = meta_learner.predict(X_stack)\n",
        "    elif best_hybrid_model == 'Majority Voting':\n",
        "        y_pred_classes = np.array([np.argmax(y_pred, axis=1) for y_pred in y_preds])\n",
        "        final_pred, _ = mode(y_pred_classes, axis=0)\n",
        "        final_pred = final_pred.flatten()\n",
        "\n",
        "    # Map prediction to class label\n",
        "    class_labels = ['glioma', 'meningioma', 'notumor', 'pituitary']\n",
        "    return class_labels[final_pred[0]]\n",
        "\n",
        "# Ask the user to upload an image\n",
        "Tk().withdraw()  # Hide the root window\n",
        "image_path = askopenfilename(title=\"Select an MRI Image\", filetypes=[(\"Image Files\", \"*.jpg *.jpeg *.png\")])\n",
        "\n",
        "# Make a prediction\n",
        "if image_path:\n",
        "    prediction = predict_with_hybrid_model(image_path)\n",
        "    print(\"Predicted Class:\", prediction)\n",
        "else:\n",
        "    print(\"No image selected.\")"
      ],
      "metadata": {
        "id": "RZkcuQpiZjVF"
      },
      "execution_count": null,
      "outputs": []
    }
  ],
  "metadata": {
    "colab": {
      "provenance": [],
      "gpuType": "T4",
      "include_colab_link": true
    },
    "kernelspec": {
      "display_name": "Python 3",
      "name": "python3"
    },
    "language_info": {
      "name": "python"
    },
    "accelerator": "GPU"
  },
  "nbformat": 4,
  "nbformat_minor": 0
}