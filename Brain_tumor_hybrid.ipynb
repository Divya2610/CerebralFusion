{
  "cells": [
    {
      "cell_type": "markdown",
      "metadata": {
        "id": "view-in-github",
        "colab_type": "text"
      },
      "source": [
        "<a href=\"https://colab.research.google.com/github/HarshithaShetty27/CerebralFusion/blob/main/Brain_tumor_hybrid.ipynb\" target=\"_parent\"><img src=\"https://colab.research.google.com/assets/colab-badge.svg\" alt=\"Open In Colab\"/></a>"
      ]
    },
    {
      "cell_type": "code",
      "source": [
        "from google.colab import drive\n",
        "drive.mount('/content/drive')\n",
        "\n",
        "import zipfile\n",
        "zip_path = '/content/drive/MyDrive/Brain_Tumor_Dataset/brain_tumor.zip'\n",
        "extract_path = '/content/Brain_Tumor_Dataset'\n",
        "\n",
        "with zipfile.ZipFile(zip_path, 'r') as zip_ref:\n",
        "    zip_ref.extractall(extract_path)"
      ],
      "metadata": {
        "id": "7k4DJgRIMXyA",
        "colab": {
          "base_uri": "https://localhost:8080/"
        },
        "outputId": "159e76aa-30d9-4920-ed12-f28c3d194ef8"
      },
      "execution_count": 1,
      "outputs": [
        {
          "output_type": "stream",
          "name": "stdout",
          "text": [
            "Mounted at /content/drive\n"
          ]
        }
      ]
    },
    {
      "cell_type": "code",
      "source": [
        "from google.colab import drive\n",
        "drive.mount('/content/drive')"
      ],
      "metadata": {
        "id": "KoeVQVNklQpe",
        "colab": {
          "base_uri": "https://localhost:8080/"
        },
        "outputId": "db119d85-41b1-4314-ea9e-88d309d683e3"
      },
      "execution_count": 2,
      "outputs": [
        {
          "output_type": "stream",
          "name": "stdout",
          "text": [
            "Drive already mounted at /content/drive; to attempt to forcibly remount, call drive.mount(\"/content/drive\", force_remount=True).\n"
          ]
        }
      ]
    },
    {
      "cell_type": "code",
      "source": [
        "import os\n",
        "import numpy as np\n",
        "from sklearn.model_selection import train_test_split\n",
        "from tensorflow.keras.preprocessing.image import ImageDataGenerator\n",
        "\n",
        "base_dir = '/content/Brain_Tumor_Dataset'\n",
        "categories = ['glioma', 'meningioma', 'notumor', 'pituitary']\n",
        "\n",
        "# Split dataset into training, validation, and test sets\n",
        "train_dir = os.path.join(base_dir, 'Training')\n",
        "val_dir = os.path.join(base_dir, 'Validation')\n",
        "test_dir = os.path.join(base_dir, 'Testing')\n",
        "\n",
        "for category in categories:\n",
        "    os.makedirs(os.path.join(train_dir, category), exist_ok=True)\n",
        "    os.makedirs(os.path.join(val_dir, category), exist_ok=True)\n",
        "    os.makedirs(os.path.join(test_dir, category), exist_ok=True)\n",
        "\n",
        "# Use ImageDataGenerator for loading and augmentation\n",
        "datagen = ImageDataGenerator(rescale=1./255, validation_split=0.15)\n",
        "\n",
        "train_generator = datagen.flow_from_directory(\n",
        "    train_dir,\n",
        "    target_size=(224, 224),\n",
        "    batch_size=32,\n",
        "    class_mode='categorical',\n",
        "    subset='training')\n",
        "\n",
        "val_generator = datagen.flow_from_directory(\n",
        "    train_dir,\n",
        "    target_size=(224, 224),\n",
        "    batch_size=32,\n",
        "    class_mode='categorical',\n",
        "    subset='validation')\n",
        "\n",
        "test_generator = datagen.flow_from_directory(\n",
        "    test_dir,\n",
        "    target_size=(224, 224),\n",
        "    batch_size=32,\n",
        "    class_mode='categorical')"
      ],
      "metadata": {
        "id": "TDBB2cOjMZeA",
        "colab": {
          "base_uri": "https://localhost:8080/"
        },
        "outputId": "d60ad5ec-a36f-4ad5-aebb-da84808c217e"
      },
      "execution_count": 3,
      "outputs": [
        {
          "output_type": "stream",
          "name": "stdout",
          "text": [
            "Found 4857 images belonging to 4 classes.\n",
            "Found 855 images belonging to 4 classes.\n",
            "Found 1311 images belonging to 4 classes.\n"
          ]
        }
      ]
    },
    {
      "cell_type": "code",
      "source": [
        "from skimage.filters import threshold_otsu\n",
        "from skimage import img_as_ubyte\n",
        "import tensorflow as tf\n",
        "\n",
        "def preprocess_image(image):\n",
        "    # OTSU thresholding\n",
        "    thresh = threshold_otsu(image)\n",
        "    binary = image > thresh\n",
        "    binary = img_as_ubyte(binary)\n",
        "\n",
        "    # Resize and normalize\n",
        "    image = tf.image.resize(image, [224, 224])\n",
        "    image = image / 255.0\n",
        "\n",
        "    return image"
      ],
      "metadata": {
        "id": "TMk3-mX_Ma6Q"
      },
      "execution_count": 4,
      "outputs": []
    },
    {
      "cell_type": "code",
      "source": [
        "datagen_aug = ImageDataGenerator(\n",
        "    rotation_range=20,\n",
        "    width_shift_range=0.2,\n",
        "    height_shift_range=0.2,\n",
        "    shear_range=0.2,\n",
        "    zoom_range=0.2,\n",
        "    horizontal_flip=True,\n",
        "    fill_mode='nearest')\n",
        "\n",
        "train_generator_aug = datagen_aug.flow_from_directory(\n",
        "    train_dir,\n",
        "    target_size=(224, 224),\n",
        "    batch_size=32,\n",
        "    class_mode='categorical')"
      ],
      "metadata": {
        "id": "2Kfx0DpVMcuc",
        "colab": {
          "base_uri": "https://localhost:8080/"
        },
        "outputId": "b819cef9-4d6f-4b28-90ed-0e0d7aa35c65"
      },
      "execution_count": 5,
      "outputs": [
        {
          "output_type": "stream",
          "name": "stdout",
          "text": [
            "Found 5712 images belonging to 4 classes.\n"
          ]
        }
      ]
    },
    {
      "cell_type": "code",
      "source": [
        "from tensorflow.keras.applications import VGG16\n",
        "from tensorflow.keras.models import Model\n",
        "from tensorflow.keras.layers import Dense, GlobalAveragePooling2D\n",
        "from google.colab import drive\n",
        "import os\n",
        "\n",
        "# Mount Google Drive\n",
        "# drive.mount('/content/drive')\n",
        "\n",
        "# Define the path to save the model in Google Drive\n",
        "model_save_path = '/content/drive/MyDrive/models/vgg16_model.h5'\n",
        "\n",
        "# Check if the model already exists\n",
        "if os.path.exists(model_save_path):\n",
        "    # Load the pre-trained model from Google Drive\n",
        "    from tensorflow.keras.models import load_model\n",
        "    model_vgg = load_model(model_save_path)\n",
        "    print(\"Model loaded from Google Drive.\")\n",
        "else:\n",
        "    # Build the VGG16 model\n",
        "    base_model = VGG16(weights='imagenet', include_top=False, input_shape=(224, 224, 3))\n",
        "    x = base_model.output\n",
        "    x = GlobalAveragePooling2D()(x)\n",
        "    x = Dense(1024, activation='relu')(x)\n",
        "    predictions = Dense(len(categories), activation='softmax')(x)\n",
        "    model_vgg = Model(inputs=base_model.input, outputs=predictions)\n",
        "\n",
        "    # Freeze the base model layers\n",
        "    for layer in base_model.layers:\n",
        "        layer.trainable = False\n",
        "\n",
        "    # Compile the model\n",
        "    model_vgg.compile(optimizer='adam', loss='categorical_crossentropy', metrics=['accuracy'])\n",
        "\n",
        "    # Train the model\n",
        "    history_vgg = model_vgg.fit(train_generator_aug, validation_data=val_generator, epochs=10)\n",
        "\n",
        "    # Save the trained model to Google Drive\n",
        "    model_vgg.save(model_save_path)\n",
        "    print(\"Model trained and saved to Google Drive.\")"
      ],
      "metadata": {
        "id": "yX998cS6Me6n",
        "colab": {
          "base_uri": "https://localhost:8080/"
        },
        "outputId": "27ca03d7-049a-46af-bfcd-bac46dd248df"
      },
      "execution_count": 6,
      "outputs": [
        {
          "output_type": "stream",
          "name": "stderr",
          "text": [
            "WARNING:absl:Compiled the loaded model, but the compiled metrics have yet to be built. `model.compile_metrics` will be empty until you train or evaluate the model.\n"
          ]
        },
        {
          "output_type": "stream",
          "name": "stdout",
          "text": [
            "Model loaded from Google Drive.\n"
          ]
        }
      ]
    },
    {
      "cell_type": "code",
      "source": [
        "from tensorflow.keras.applications import ResNet50\n",
        "from tensorflow.keras.models import Model\n",
        "from tensorflow.keras.layers import Dense, GlobalAveragePooling2D\n",
        "from google.colab import drive\n",
        "import os\n",
        "\n",
        "# Mount Google Drive\n",
        "drive.mount('/content/drive')\n",
        "\n",
        "# Define the path to save the model in Google Drive\n",
        "model_save_path = '/content/drive/MyDrive/models/resnet50_model.h5'\n",
        "\n",
        "# Check if the model already exists\n",
        "if os.path.exists(model_save_path):\n",
        "    # Load the pre-trained model from Google Drive\n",
        "    from tensorflow.keras.models import load_model\n",
        "    model_resnet = load_model(model_save_path)\n",
        "    print(\"ResNet50 model loaded from Google Drive.\")\n",
        "else:\n",
        "    # Build the ResNet50 model\n",
        "    base_model = ResNet50(weights='imagenet', include_top=False, input_shape=(224, 224, 3))\n",
        "    x = base_model.output\n",
        "    x = GlobalAveragePooling2D()(x)\n",
        "    x = Dense(1024, activation='relu')(x)\n",
        "    predictions = Dense(len(categories), activation='softmax')(x)\n",
        "    model_resnet = Model(inputs=base_model.input, outputs=predictions)\n",
        "\n",
        "    # Freeze the base model layers\n",
        "    for layer in base_model.layers:\n",
        "        layer.trainable = False\n",
        "\n",
        "    # Compile the model\n",
        "    model_resnet.compile(optimizer='adam', loss='categorical_crossentropy', metrics=['accuracy'])\n",
        "\n",
        "    # Train the model\n",
        "    history_resnet = model_resnet.fit(train_generator_aug, validation_data=val_generator, epochs=10)\n",
        "\n",
        "    # Save the trained model to Google Drive\n",
        "    model_resnet.save(model_save_path)\n",
        "    print(\"ResNet50 model trained and saved to Google Drive.\")"
      ],
      "metadata": {
        "id": "Nw3ZfthPMhTm",
        "colab": {
          "base_uri": "https://localhost:8080/"
        },
        "outputId": "5ca1e1cb-2b12-40de-b36d-d9c79ccedd0a"
      },
      "execution_count": 7,
      "outputs": [
        {
          "output_type": "stream",
          "name": "stdout",
          "text": [
            "Drive already mounted at /content/drive; to attempt to forcibly remount, call drive.mount(\"/content/drive\", force_remount=True).\n"
          ]
        },
        {
          "output_type": "stream",
          "name": "stderr",
          "text": [
            "WARNING:absl:Compiled the loaded model, but the compiled metrics have yet to be built. `model.compile_metrics` will be empty until you train or evaluate the model.\n"
          ]
        },
        {
          "output_type": "stream",
          "name": "stdout",
          "text": [
            "ResNet50 model loaded from Google Drive.\n"
          ]
        }
      ]
    },
    {
      "cell_type": "code",
      "source": [
        "from tensorflow.keras.applications import DenseNet121\n",
        "from tensorflow.keras.models import Model\n",
        "from tensorflow.keras.layers import Dense, GlobalAveragePooling2D\n",
        "from google.colab import drive\n",
        "import os\n",
        "\n",
        "# Mount Google Drive\n",
        "drive.mount('/content/drive')\n",
        "\n",
        "# Define the path to save the model in Google Drive\n",
        "model_save_path = '/content/drive/MyDrive/models/densenet121_model.h5'\n",
        "\n",
        "# Check if the model already exists\n",
        "if os.path.exists(model_save_path):\n",
        "    # Load the pre-trained model from Google Drive\n",
        "    from tensorflow.keras.models import load_model\n",
        "    model_densenet = load_model(model_save_path)\n",
        "    print(\"DenseNet121 model loaded from Google Drive.\")\n",
        "else:\n",
        "    # Build the DenseNet121 model\n",
        "    base_model = DenseNet121(weights='imagenet', include_top=False, input_shape=(224, 224, 3))\n",
        "    x = base_model.output\n",
        "    x = GlobalAveragePooling2D()(x)\n",
        "    x = Dense(1024, activation='relu')(x)\n",
        "    predictions = Dense(len(categories),\n",
        "                        activation='softmax')(x)\n",
        "    model_densenet = Model(inputs=base_model.input, outputs=predictions)\n",
        "\n",
        "    # Freeze the base model layers\n",
        "    for layer in base_model.layers:\n",
        "        layer.trainable = False\n",
        "\n",
        "    # Compile the model\n",
        "    model_densenet.compile(optimizer='adam', loss='categorical_crossentropy', metrics=['accuracy'])\n",
        "\n",
        "    # Train the model\n",
        "    history_densenet = model_densenet.fit(train_generator_aug, validation_data=val_generator, epochs=10)\n",
        "\n",
        "    # Save the trained model to Google Drive\n",
        "    model_densenet.save(model_save_path)\n",
        "    print(\"DenseNet121 model trained and saved to Google Drive.\")"
      ],
      "metadata": {
        "id": "nFOBoyJaMi6y",
        "colab": {
          "base_uri": "https://localhost:8080/"
        },
        "outputId": "6e8c8311-430c-441d-8570-71f6bb5c7f32"
      },
      "execution_count": 8,
      "outputs": [
        {
          "output_type": "stream",
          "name": "stdout",
          "text": [
            "Drive already mounted at /content/drive; to attempt to forcibly remount, call drive.mount(\"/content/drive\", force_remount=True).\n"
          ]
        },
        {
          "output_type": "stream",
          "name": "stderr",
          "text": [
            "WARNING:absl:Compiled the loaded model, but the compiled metrics have yet to be built. `model.compile_metrics` will be empty until you train or evaluate the model.\n"
          ]
        },
        {
          "output_type": "stream",
          "name": "stdout",
          "text": [
            "DenseNet121 model loaded from Google Drive.\n"
          ]
        }
      ]
    },
    {
      "cell_type": "code",
      "source": [
        "from tensorflow.keras.models import Sequential\n",
        "from tensorflow.keras.layers import Conv2D, MaxPooling2D, Flatten, Dense\n",
        "from google.colab import drive\n",
        "import os\n",
        "\n",
        "# Mount Google Drive\n",
        "drive.mount('/content/drive')\n",
        "\n",
        "# Define the path to save the model in Google Drive\n",
        "model_save_path = '/content/drive/MyDrive/models/custom_cnn_model.h5'\n",
        "\n",
        "# Check if the model already exists\n",
        "if os.path.exists(model_save_path):\n",
        "    # Load the pre-trained model from Google Drive\n",
        "    from tensorflow.keras.models import load_model\n",
        "    model_custom = load_model(model_save_path)\n",
        "    print(\"Custom CNN model loaded from Google Drive.\")\n",
        "else:\n",
        "    # Build the custom CNN model\n",
        "    model_custom = Sequential([\n",
        "        Conv2D(32, (3, 3), activation='relu', input_shape=(224, 224, 3)),\n",
        "        MaxPooling2D((2, 2)),\n",
        "        Conv2D(64, (3, 3), activation='relu'),\n",
        "        MaxPooling2D((2, 2)),\n",
        "        Conv2D(128, (3, 3), activation='relu'),\n",
        "        MaxPooling2D((2, 2)),\n",
        "        Flatten(),\n",
        "        Dense(128, activation='relu'),\n",
        "        Dense(len(categories), activation='softmax')\n",
        "    ])\n",
        "\n",
        "# Compile the model\n",
        "    model_custom.compile(optimizer='adam', loss='categorical_crossentropy', metrics=['accuracy'])\n",
        "\n",
        "    # Train the model\n",
        "    history_custom = model_custom.fit(train_generator_aug, validation_data=val_generator, epochs=10)\n",
        "\n",
        "    # Save the trained model to Google Drive\n",
        "    model_custom.save(model_save_path)\n",
        "    print(\"Custom CNN model trained and saved to Google Drive.\")"
      ],
      "metadata": {
        "id": "Qe64aBnqM0uu",
        "colab": {
          "base_uri": "https://localhost:8080/"
        },
        "outputId": "bd6bbce0-4189-439c-c6ea-05e7b8d78ded"
      },
      "execution_count": 9,
      "outputs": [
        {
          "output_type": "stream",
          "name": "stdout",
          "text": [
            "Drive already mounted at /content/drive; to attempt to forcibly remount, call drive.mount(\"/content/drive\", force_remount=True).\n"
          ]
        },
        {
          "output_type": "stream",
          "name": "stderr",
          "text": [
            "WARNING:absl:Compiled the loaded model, but the compiled metrics have yet to be built. `model.compile_metrics` will be empty until you train or evaluate the model.\n"
          ]
        },
        {
          "output_type": "stream",
          "name": "stdout",
          "text": [
            "Custom CNN model loaded from Google Drive.\n"
          ]
        }
      ]
    },
    {
      "cell_type": "code",
      "source": [
        "# from tensorflow.keras.layers import Input, Conv2D, MaxPooling2D, Dropout, UpSampling2D, concatenate\n",
        "# from tensorflow.keras.models import Model\n",
        "\n",
        "# def unet_model(input_size=(224, 224, 3)):\n",
        "#     inputs = Input(input_size)\n",
        "\n",
        "#     # Downsample path\n",
        "#     conv1 = Conv2D(64, (3, 3), activation='relu', padding='same')(inputs)\n",
        "#     conv1 = Conv2D(64, (3, 3), activation='relu', padding='same')(conv1)\n",
        "#     pool1 = MaxPooling2D(pool_size=(2, 2))(conv1)\n",
        "\n",
        "#     conv2 = Conv2D(128, (3, 3), activation='relu', padding='same')(pool1)\n",
        "#     conv2 = Conv2D(128, (3, 3), activation='relu', padding='same')(conv2)\n",
        "#     pool2 = MaxPooling2D(pool_size=(2, 2))(conv2)\n",
        "\n",
        "#     conv3 = Conv2D(256, (3, 3), activation='relu', padding='same')(pool2)\n",
        "#     conv3 = Conv2D(256, (3, 3), activation='relu', padding='same')(conv3)\n",
        "#     pool3 = MaxPooling2D(pool_size=(2, 2))(conv3)\n",
        "\n",
        "#     # Bottleneck\n",
        "#     conv4 = Conv2D(512, (3, 3), activation='relu', padding='same')(pool3)\n",
        "#     conv4 = Conv2D(512, (3, 3), activation='relu', padding='same')(conv4)\n",
        "\n",
        "#     # Upsample path\n",
        "#     up5 = UpSampling2D(size=(2, 2))(conv4)\n",
        "#     up5 = Conv2D(256, (2, 2), activation='relu', padding='same')(up5)\n",
        "#     merge5 = concatenate([conv3, up5], axis=3)\n",
        "#     conv5 = Conv2D(256, (3, 3), activation='relu', padding='same')(merge5)\n",
        "#     conv5 = Conv2D(256, (3, 3), activation='relu', padding='same')(conv5)\n",
        "\n",
        "#     up6 = UpSampling2D(size=(2, 2))(conv5)\n",
        "#     up6 = Conv2D(128, (2, 2), activation='relu', padding='same')(up6)\n",
        "#     merge6 = concatenate([conv2, up6], axis=3)\n",
        "#     conv6 = Conv2D(128, (3, 3), activation='relu', padding='same')(merge6)\n",
        "#     conv6 = Conv2D(128, (3, 3), activation='relu', padding='same')(conv6)\n",
        "\n",
        "#     up7 = UpSampling2D(size=(2, 2))(conv6)\n",
        "#     up7 = Conv2D(64, (2, 2), activation='relu', padding='same')(up7)\n",
        "#     merge7 = concatenate([conv1, up7], axis=3)\n",
        "#     conv7 = Conv2D(64, (3, 3), activation='relu', padding='same')(merge7)\n",
        "#     conv7 = Conv2D(64, (3, 3), activation='relu', padding='same')(conv7)\n",
        "\n",
        "#     # Output for segmentation\n",
        "#     outputs_seg = Conv2D(1, (1, 1), activation='sigmoid')(conv7)\n",
        "\n",
        "#     # Classification head\n",
        "#     flatten = Flatten()(conv7)\n",
        "#     dense1 = Dense(128, activation='relu')(flatten)\n",
        "#     outputs_cls = Dense(len(categories), activation='softmax')(dense1)\n",
        "\n",
        "#     model = Model(inputs=inputs, outputs=[outputs_seg, outputs_cls])\n",
        "#     return model\n",
        "\n",
        "# # Compile the model\n",
        "# model_unet = unet_model()\n",
        "# model_unet.compile(optimizer='adam',loss=['binary_crossentropy', 'categorical_crossentropy'],metrics=['accuracy'])\n",
        "\n",
        "# # Train the model\n",
        "# history_unet = model_unet.fit(train_generator_aug,validation_data=val_generator, epochs=10)\n"
      ],
      "metadata": {
        "id": "2LH4M_-_97ZM"
      },
      "execution_count": null,
      "outputs": []
    },
    {
      "cell_type": "code",
      "source": [
        "import cv2\n",
        "import numpy as np\n",
        "from sklearn.svm import SVC\n",
        "from sklearn.model_selection import train_test_split\n",
        "from sklearn.metrics import accuracy_score\n",
        "from google.colab import drive\n",
        "import joblib\n",
        "import os\n",
        "\n",
        "# Mount Google Drive\n",
        "drive.mount('/content/drive')\n",
        "\n",
        "# Define the path to save the model in Google Drive\n",
        "model_save_path = '/content/drive/MyDrive/models/svm_model.pkl'\n",
        "\n",
        "# Define the function before checking for model existence\n",
        "def extract_gabor_features(images):\n",
        "    features = []\n",
        "    kernels = []\n",
        "    for theta in range(4):\n",
        "        theta = theta / 4. * np.pi\n",
        "        for sigma in (1, 3):\n",
        "            for lamda in np.arange(0, np.pi, np.pi / 4):\n",
        "                for gamma in (0.05, 0.5):\n",
        "                    kernel = cv2.getGaborKernel((21, 21), sigma, theta, lamda, gamma, 0, ktype=cv2.CV_32F)\n",
        "                    kernels.append(kernel)\n",
        "\n",
        "    for image in images:\n",
        "        feature_vector = []\n",
        "        for kernel in kernels:\n",
        "            filtered = cv2.filter2D(image, cv2.CV_8UC3, kernel)\n",
        "            feature_vector.append(filtered.mean())\n",
        "        features.append(feature_vector)\n",
        "    return np.array(features)\n",
        "\n",
        "# Check if the model already exists\n",
        "if os.path.exists(model_save_path):\n",
        "    # Load the pre-trained model from Google Drive\n",
        "    svm_model = joblib.load(model_save_path)\n",
        "    print(\"SVM model loaded from Google Drive.\")\n",
        "else:\n",
        "    # Load images and labels\n",
        "    images = []\n",
        "    labels = []\n",
        "    for category in categories:\n",
        "        category_dir = os.path.join(train_dir, category)\n",
        "        for img_name in os.listdir(category_dir):\n",
        "            img_path = os.path.join(category_dir, img_name)\n",
        "            img = cv2.imread(img_path, cv2.IMREAD_GRAYSCALE)\n",
        "            img = cv2.resize(img, (224, 224))\n",
        "            images.append(img)\n",
        "            labels.append(categories.index(category))\n",
        "\n",
        "    # Extract Gabor features\n",
        "    X = extract_gabor_features(images)\n",
        "    y = np.array(labels)\n",
        "\n",
        "    # Split data into training and validation sets\n",
        "    X_train, X_val, y_train, y_val = train_test_split(X, y, test_size=0.2, random_state=42)\n",
        "\n",
        "    # Train SVM\n",
        "    svm_model = SVC(kernel='linear', probability=True)\n",
        "    svm_model.fit(X_train, y_train)\n",
        "\n",
        "    # Save the trained model to Google Drive\n",
        "    joblib.dump(svm_model, model_save_path)\n",
        "    print(\"SVM model trained and saved to Google Drive.\")\n",
        "\n",
        "# Evaluate SVM\n",
        "# y_pred = svm_model.predict(X_val)\n",
        "# print(\"SVM Accuracy:\", accuracy_score(y_val, y_pred))\n"
      ],
      "metadata": {
        "id": "f_PgQN-69_G1",
        "colab": {
          "base_uri": "https://localhost:8080/"
        },
        "outputId": "d179a00b-e079-4952-a6f5-e84eccc167d9"
      },
      "execution_count": 10,
      "outputs": [
        {
          "output_type": "stream",
          "name": "stdout",
          "text": [
            "Drive already mounted at /content/drive; to attempt to forcibly remount, call drive.mount(\"/content/drive\", force_remount=True).\n",
            "SVM model loaded from Google Drive.\n"
          ]
        }
      ]
    },
    {
      "cell_type": "code",
      "source": [
        "from sklearn.ensemble import RandomForestClassifier\n",
        "from skimage.feature import hog\n",
        "from skimage import exposure\n",
        "import numpy as np\n",
        "import cv2\n",
        "from sklearn.model_selection import train_test_split\n",
        "from sklearn.metrics import accuracy_score\n",
        "from google.colab import drive\n",
        "import joblib\n",
        "import os\n",
        "\n",
        "# Mount Google Drive\n",
        "drive.mount('/content/drive')\n",
        "\n",
        "# Define the path to save the model in Google Drive\n",
        "model_save_path = '/content/drive/MyDrive/models/random_forest_model.pkl'\n",
        "\n",
        "# Define the function before checking for model existence\n",
        "def extract_hog_features(images):\n",
        "    features = []\n",
        "    for image in images:\n",
        "        # Convert RGB image to grayscale if necessary\n",
        "        if len(image.shape) == 3 and image.shape[2] == 3:  # Check if image is RGB\n",
        "            image = cv2.cvtColor(image, cv2.COLOR_RGB2GRAY)\n",
        "        # Extract HOG features\n",
        "        fd, _ = hog(image, pixels_per_cell=(8, 8), cells_per_block=(2, 2),\n",
        "                    visualize=True, channel_axis=None)\n",
        "        features.append(fd)\n",
        "    return np.array(features)\n",
        "\n",
        "# Check if the model already exists\n",
        "if os.path.exists(model_save_path):\n",
        "    # Load the pre-trained model from Google Drive\n",
        "    rf_model = joblib.load(model_save_path)\n",
        "    print(\"Random Forest model loaded from Google Drive.\")\n",
        "else:\n",
        "    # Load images and labels\n",
        "    images = []\n",
        "    labels = []\n",
        "    categories = [\"category1\", \"category2\"]  # Update with actual category names\n",
        "    train_dir = \"/content/drive/MyDrive/dataset/train\"  # Update with your dataset path\n",
        "\n",
        "    for category in categories:\n",
        "        category_dir = os.path.join(train_dir, category)\n",
        "        for img_name in os.listdir(category_dir):\n",
        "            img_path = os.path.join(category_dir, img_name)\n",
        "            img = cv2.imread(img_path, cv2.IMREAD_GRAYSCALE)  # Load image in grayscale\n",
        "            img = cv2.resize(img, (224, 224))  # Resize image\n",
        "            images.append(img)\n",
        "            labels.append(categories.index(category))\n",
        "\n",
        "    # Extract HOG features\n",
        "    X_hog = extract_hog_features(images)\n",
        "    y = np.array(labels)\n",
        "\n",
        "    # Split data into training and validation sets\n",
        "    X_train, X_val, y_train, y_val = train_test_split(X_hog, y, test_size=0.2, random_state=42)\n",
        "\n",
        "    # Train Random Forest\n",
        "    rf_model = RandomForestClassifier(n_estimators=100, random_state=42)\n",
        "    rf_model.fit(X_train, y_train)\n",
        "\n",
        "    # Save the trained model to Google Drive\n",
        "    joblib.dump(rf_model, model_save_path)\n",
        "    print(\"Random Forest model trained and saved to Google Drive.\")\n",
        "\n",
        "# Evaluate Random Forest\n",
        "# y_pred = rf_model.predict(X_val)\n",
        "# print(\"Random Forest Accuracy:\", accuracy_score(y_val, y_pred))"
      ],
      "metadata": {
        "id": "2o_aGNT59-03",
        "colab": {
          "base_uri": "https://localhost:8080/"
        },
        "outputId": "b52eab88-0d47-4b53-8cf0-225dcc6f0716"
      },
      "execution_count": 11,
      "outputs": [
        {
          "output_type": "stream",
          "name": "stdout",
          "text": [
            "Drive already mounted at /content/drive; to attempt to forcibly remount, call drive.mount(\"/content/drive\", force_remount=True).\n",
            "Random Forest model loaded from Google Drive.\n"
          ]
        }
      ]
    },
    {
      "cell_type": "code",
      "source": [
        "import numpy as np\n",
        "from sklearn.metrics import accuracy_score, f1_score, roc_auc_score\n",
        "\n",
        "# Function to evaluate a model\n",
        "def evaluate_model(model, X_val, y_val, is_deep_learning=False):\n",
        "    if is_deep_learning:\n",
        "        y_pred_proba = model.predict(X_val)\n",
        "        y_pred = np.argmax(y_pred_proba, axis=1)\n",
        "        y_val = np.argmax(y_val, axis=1)  # Convert one-hot to integer labels\n",
        "    else:\n",
        "        y_pred = model.predict(X_val)\n",
        "        y_pred_proba = model.predict_proba(X_val)  # For binary classification\n",
        "\n",
        "    accuracy = accuracy_score(y_val, y_pred)\n",
        "    f1 = f1_score(y_val, y_pred, average='weighted')\n",
        "    # Handle AUC-ROC correctly for multi-class classification\n",
        "    if len(np.unique(y_val)) > 2:  # Multi-class case\n",
        "        auc_roc = roc_auc_score(y_val, y_pred_proba, multi_class='ovr')\n",
        "    else:  # Binary case\n",
        "        auc_roc = roc_auc_score(y_val, y_pred_proba[:, 1])  # Take probability of class 1\n",
        "    return accuracy, f1, auc_roc\n",
        "\n",
        "# Evaluate all models\n",
        "models = {\n",
        "    'VGG16': model_vgg,\n",
        "    'ResNet50': model_resnet,\n",
        "    'DenseNet': model_densenet,\n",
        "    'CNN': model_custom,\n",
        "    'SVM': svm_model,\n",
        "    'RandomForest': rf_model\n",
        "}\n",
        "\n",
        "results = {}\n",
        "# Get the full validation data\n",
        "X_val_dl_full = []\n",
        "y_val_dl_full = []\n",
        "for i in range(len(val_generator)):\n",
        "    X_batch, y_batch = val_generator[i]\n",
        "    X_val_dl_full.append(X_batch)\n",
        "    y_val_dl_full.append(y_batch)\n",
        "X_val_dl_full = np.vstack(X_val_dl_full)\n",
        "y_val_dl_full = np.vstack(y_val_dl_full)\n",
        "\n",
        "# Convert RGB images to grayscale for HOG feature extraction\n",
        "X_val_dl_gray = np.array([cv2.cvtColor(img, cv2.COLOR_RGB2GRAY) if len(img.shape) == 3 else img for img in X_val_dl_full])\n",
        "\n",
        "# Extract features for SVM and Random Forest\n",
        "X_val_gabor = extract_gabor_features(X_val_dl_full)  # Gabor features for SVM\n",
        "X_val_hog = extract_hog_features(X_val_dl_gray)  # HOG features for Random Forest\n",
        "\n",
        "# Evaluate each model\n",
        "for name, model in models.items():\n",
        "    if name in ['VGG16', 'ResNet50', 'DenseNet', 'CNN']:\n",
        "        # For deep learning models, use the full validation data\n",
        "        accuracy, f1, auc_roc = evaluate_model(model, X_val_dl_full, y_val_dl_full, is_deep_learning=True)\n",
        "    else:\n",
        "        # For SVM and Random Forest, use the feature-extracted validation set\n",
        "        if name == 'SVM':\n",
        "            X_val_fe = X_val_gabor  # Use Gabor features for SVM\n",
        "        else:\n",
        "            X_val_fe = X_val_hog  # Use HOG features for Random Forest\n",
        "        accuracy, f1, auc_roc = evaluate_model(model, X_val_fe, np.argmax(y_val_dl_full, axis=1), is_deep_learning=False)\n",
        "    results[name] = {'Accuracy': accuracy, 'F1-Score': f1, 'AUC-ROC': auc_roc}\n",
        "\n",
        "# Convert results to a DataFrame for easy comparison\n",
        "import pandas as pd\n",
        "results_df = pd.DataFrame(results).T\n",
        "print(\"Model Performance:\")\n",
        "print(results_df)\n",
        "\n",
        "# Dynamically select top 3 models based on a combined score (e.g., average of normalized metrics)\n",
        "results_df['Combined_Score'] = (results_df['Accuracy'] + results_df['F1-Score'] + results_df['AUC-ROC']) / 3\n",
        "top_3_models = results_df.nlargest(3, 'Combined_Score').index.tolist()\n",
        "print(\"\\nTop 3 Models:\",top_3_models)"
      ],
      "metadata": {
        "id": "Z-WriyTuKLNq",
        "colab": {
          "base_uri": "https://localhost:8080/"
        },
        "outputId": "10463cb1-7cd6-437e-e2da-c760dd94c7a8"
      },
      "execution_count": 12,
      "outputs": [
        {
          "output_type": "stream",
          "name": "stdout",
          "text": [
            "\u001b[1m27/27\u001b[0m \u001b[32m━━━━━━━━━━━━━━━━━━━━\u001b[0m\u001b[37m\u001b[0m \u001b[1m535s\u001b[0m 20s/step\n",
            "\u001b[1m27/27\u001b[0m \u001b[32m━━━━━━━━━━━━━━━━━━━━\u001b[0m\u001b[37m\u001b[0m \u001b[1m163s\u001b[0m 6s/step\n",
            "\u001b[1m27/27\u001b[0m \u001b[32m━━━━━━━━━━━━━━━━━━━━\u001b[0m\u001b[37m\u001b[0m \u001b[1m165s\u001b[0m 6s/step\n",
            "\u001b[1m27/27\u001b[0m \u001b[32m━━━━━━━━━━━━━━━━━━━━\u001b[0m\u001b[37m\u001b[0m \u001b[1m29s\u001b[0m 1s/step\n",
            "Model Performance:\n",
            "              Accuracy  F1-Score   AUC-ROC\n",
            "VGG16         0.231579  0.087090  0.768889\n",
            "ResNet50      0.242105  0.108129  0.482114\n",
            "DenseNet      0.402339  0.340346  0.712611\n",
            "CNN           0.231579  0.087090  0.350435\n",
            "SVM           0.231579  0.087090  0.663919\n",
            "RandomForest  0.926316  0.926196  0.992236\n",
            "\n",
            "Top 3 Models: ['RandomForest', 'DenseNet', 'VGG16']\n"
          ]
        }
      ]
    },
    {
      "cell_type": "code",
      "source": [
        "# Get predictions from top 3 models\n",
        "y_preds = []\n",
        "for model_name in top_3_models:\n",
        "    model = models[model_name]\n",
        "    if model_name in ['VGG16', 'ResNet50', 'DenseNet', 'CNN']:\n",
        "        # For deep learning models, use the full validation data\n",
        "        y_pred_proba = model.predict(X_val_dl_full)\n",
        "    else:\n",
        "        # For SVM and Random Forest, use the feature-extracted validation set\n",
        "        if model_name == 'SVM':\n",
        "            X_val_fe = X_val_gabor  # Use Gabor features for SVM\n",
        "        else:\n",
        "            X_val_fe = X_val_hog  # Use HOG features for Random Forest\n",
        "        y_pred_proba = model.predict_proba(X_val_fe)\n",
        "    y_preds.append(y_pred_proba)"
      ],
      "metadata": {
        "id": "DlSzFtQJKK36",
        "colab": {
          "base_uri": "https://localhost:8080/"
        },
        "outputId": "96bcd29b-86e6-438d-f098-7e9232363be3"
      },
      "execution_count": 13,
      "outputs": [
        {
          "output_type": "stream",
          "name": "stdout",
          "text": [
            "\u001b[1m27/27\u001b[0m \u001b[32m━━━━━━━━━━━━━━━━━━━━\u001b[0m\u001b[37m\u001b[0m \u001b[1m169s\u001b[0m 6s/step\n",
            "\u001b[1m27/27\u001b[0m \u001b[32m━━━━━━━━━━━━━━━━━━━━\u001b[0m\u001b[37m\u001b[0m \u001b[1m539s\u001b[0m 20s/step\n"
          ]
        }
      ]
    },
    {
      "cell_type": "code",
      "source": [
        "# Weighted averaging (weights based on model performance)\n",
        "weights = results_df.loc[top_3_models, 'Combined_Score'].values\n",
        "weights /= weights.sum()  # Normalize weights\n",
        "y_weighted_avg = np.average(y_preds, axis=0, weights=weights)\n",
        "y_weighted_avg_classes = np.argmax(y_weighted_avg, axis=1)\n",
        "\n",
        "# Evaluate weighted averaging hybrid model\n",
        "accuracy_weighted = accuracy_score(np.argmax(y_val_dl_full, axis=1), y_weighted_avg_classes)\n",
        "f1_weighted = f1_score(np.argmax(y_val_dl_full, axis=1), y_weighted_avg_classes, average='weighted')\n",
        "auc_roc_weighted = roc_auc_score(np.argmax(y_val_dl_full, axis=1), y_weighted_avg, multi_class='ovr')\n",
        "print(\"\\nWeighted Averaging Hybrid Model Performance:\")\n",
        "print(f\"Accuracy: {accuracy_weighted}, F1-Score: {f1_weighted}, AUC-ROC: {auc_roc_weighted}\")"
      ],
      "metadata": {
        "id": "z9e0WypedOd0",
        "colab": {
          "base_uri": "https://localhost:8080/"
        },
        "outputId": "23e4b8c2-e088-4fd1-d2b6-f0500c9c49c5"
      },
      "execution_count": 14,
      "outputs": [
        {
          "output_type": "stream",
          "name": "stdout",
          "text": [
            "\n",
            "Weighted Averaging Hybrid Model Performance:\n",
            "Accuracy: 0.8023391812865497, F1-Score: 0.8067753864823796, AUC-ROC: 0.9876052372044419\n"
          ]
        }
      ]
    },
    {
      "cell_type": "code",
      "source": [
        "from sklearn.linear_model import LogisticRegression\n",
        "\n",
        "# Stack predictions from top 3 models\n",
        "X_stack = np.hstack(y_preds)\n",
        "\n",
        "# Train a meta-learner (Logistic Regression)\n",
        "meta_learner = LogisticRegression()\n",
        "meta_learner.fit(X_stack, np.argmax(y_val_dl_full, axis=1))\n",
        "\n",
        "# Evaluate stacking hybrid model\n",
        "y_stack_pred = meta_learner.predict(X_stack)\n",
        "y_stack_pred_proba = meta_learner.predict_proba(X_stack)\n",
        "\n",
        "accuracy_stack = accuracy_score(np.argmax(y_val_dl_full, axis=1), y_stack_pred)\n",
        "f1_stack = f1_score(np.argmax(y_val_dl_full, axis=1), y_stack_pred, average='weighted')\n",
        "auc_roc_stack = roc_auc_score(np.argmax(y_val_dl_full, axis=1), y_stack_pred_proba, multi_class='ovr')\n",
        "print(\"\\nStacking Hybrid Model Performance:\")\n",
        "print(f\"Accuracy: {accuracy_stack}, F1-Score: {f1_stack}, AUC-ROC: {auc_roc_stack}\")"
      ],
      "metadata": {
        "id": "kqbsvn9ZdYcC",
        "colab": {
          "base_uri": "https://localhost:8080/"
        },
        "outputId": "083bdbb4-66c9-4c18-edca-6fa1c3cab3c1"
      },
      "execution_count": 15,
      "outputs": [
        {
          "output_type": "stream",
          "name": "stdout",
          "text": [
            "\n",
            "Stacking Hybrid Model Performance:\n",
            "Accuracy: 0.9298245614035088, F1-Score: 0.9298709018370045, AUC-ROC: 0.9933081621119015\n"
          ]
        }
      ]
    },
    {
      "cell_type": "code",
      "source": [
        "from scipy.stats import mode\n",
        "\n",
        "# Majority voting\n",
        "y_pred_classes = np.array([np.argmax(y_pred, axis=1) for y_pred in y_preds])  # Stack predictions into a 2D array\n",
        "print(\"Shape of y_pred_classes:\", y_pred_classes.shape)  # Verify the shape\n",
        "\n",
        "y_majority_vote, _ = mode(y_pred_classes, axis=0)  # Apply mode along the correct axis\n",
        "y_majority_vote = y_majority_vote.flatten()  # Flatten the result to get 1D array\n",
        "\n",
        "# Compute average probability predictions for AUC-ROC\n",
        "y_avg_proba = np.mean(y_preds, axis=0)  # Average probabilities across models\n",
        "\n",
        "# Verify shapes\n",
        "print(\"Shape of y_avg_proba:\", y_avg_proba.shape)\n",
        "print(\"Shape of y_val_dl_full:\", y_val_dl_full.shape)\n",
        "\n",
        "# Evaluate majority voting hybrid model\n",
        "accuracy_majority = accuracy_score(np.argmax(y_val_dl_full, axis=1), y_majority_vote)\n",
        "f1_majority = f1_score(np.argmax(y_val_dl_full, axis=1), y_majority_vote, average='weighted')\n",
        "auc_roc_majority = roc_auc_score(np.argmax(y_val_dl_full, axis=1), y_avg_proba, multi_class='ovr')\n",
        "print(\"\\nMajority Voting Hybrid Model Performance:\")\n",
        "print(f\"Accuracy: {accuracy_majority}, F1-Score: {f1_majority}, AUC-ROC: {auc_roc_majority}\")"
      ],
      "metadata": {
        "id": "xZQgLuNqdgHS",
        "colab": {
          "base_uri": "https://localhost:8080/"
        },
        "outputId": "c689cb40-e148-499f-9ba6-e34a58feff3f"
      },
      "execution_count": 16,
      "outputs": [
        {
          "output_type": "stream",
          "name": "stdout",
          "text": [
            "Shape of y_pred_classes: (3, 855)\n",
            "Shape of y_avg_proba: (855, 4)\n",
            "Shape of y_val_dl_full: (855, 4)\n",
            "\n",
            "Majority Voting Hybrid Model Performance:\n",
            "Accuracy: 0.408187134502924, F1-Score: 0.3565507762581732, AUC-ROC: 0.9754513880067884\n"
          ]
        }
      ]
    },
    {
      "cell_type": "code",
      "source": [
        "# Compare hybrid model results\n",
        "hybrid_results = {\n",
        "    'Weighted Averaging': {'Accuracy': accuracy_weighted, 'F1-Score': f1_weighted, 'AUC-ROC': auc_roc_weighted},\n",
        "    'Stacking': {'Accuracy': accuracy_stack, 'F1-Score': f1_stack, 'AUC-ROC': auc_roc_stack},\n",
        "    'Majority Voting': {'Accuracy': accuracy_majority, 'F1-Score': f1_majority, 'AUC-ROC': auc_roc_majority}\n",
        "}\n",
        "\n",
        "# Convert to DataFrame for easy comparison\n",
        "hybrid_results_df = pd.DataFrame(hybrid_results).T\n",
        "hybrid_results_df['Combined_Score'] = (hybrid_results_df['Accuracy'] + hybrid_results_df['F1-Score'] + hybrid_results_df['AUC-ROC']) / 3\n",
        "print(\"Hybrid Model Performance:\")\n",
        "print(hybrid_results_df)\n",
        "\n",
        "# Select the best hybrid model\n",
        "best_hybrid_model = hybrid_results_df.idxmax()['Combined_Score']\n",
        "print(\"\\nBest Hybrid Model:\", best_hybrid_model)"
      ],
      "metadata": {
        "id": "FO7edBjefkeH",
        "colab": {
          "base_uri": "https://localhost:8080/"
        },
        "outputId": "043d32e8-0b90-4c16-8eed-550053624be4"
      },
      "execution_count": 17,
      "outputs": [
        {
          "output_type": "stream",
          "name": "stdout",
          "text": [
            "Hybrid Model Performance:\n",
            "                    Accuracy  F1-Score   AUC-ROC  Combined_Score\n",
            "Weighted Averaging  0.802339  0.806775  0.987605        0.865573\n",
            "Stacking            0.929825  0.929871  0.993308        0.951001\n",
            "Majority Voting     0.408187  0.356551  0.975451        0.580063\n",
            "\n",
            "Best Hybrid Model: Stacking\n"
          ]
        }
      ]
    },
    {
      "cell_type": "code",
      "source": [
        "# Get the full test data\n",
        "X_test_dl_full = []\n",
        "y_test_dl_full = []\n",
        "for i in range(len(test_generator)):\n",
        "    X_batch, y_batch = test_generator[i]\n",
        "    X_test_dl_full.append(X_batch)\n",
        "    y_test_dl_full.append(y_batch)\n",
        "X_test_dl_full = np.vstack(X_test_dl_full)\n",
        "y_test_dl_full = np.vstack(y_test_dl_full)\n",
        "\n",
        "# Convert RGB images to grayscale for HOG feature extraction (if needed)\n",
        "X_test_dl_gray = np.array([cv2.cvtColor(img, cv2.COLOR_RGB2GRAY) if len(img.shape) == 3 else img for img in X_test_dl_full])\n",
        "\n",
        "# Extract features for SVM and Random Forest\n",
        "X_test_gabor = extract_gabor_features(X_test_dl_full)  # Gabor features for SVM\n",
        "X_test_hog = extract_hog_features(X_test_dl_gray)  # HOG features for Random Forest"
      ],
      "metadata": {
        "id": "tsKUUcnJf7hu"
      },
      "execution_count": 18,
      "outputs": []
    },
    {
      "cell_type": "code",
      "source": [
        "if best_hybrid_model == 'Weighted Averaging':\n",
        "    # Get predictions from top 3 models for the test set\n",
        "    y_preds_test = []\n",
        "    for model_name in top_3_models:\n",
        "        model = models[model_name]\n",
        "        if model_name in ['VGG16', 'ResNet50', 'DenseNet', 'CNN']:\n",
        "            y_pred_proba = model.predict(X_test_dl_full)\n",
        "        else:\n",
        "            if model_name == 'SVM':\n",
        "                X_test_fe = X_test_gabor  # Use Gabor features for SVM\n",
        "            else:\n",
        "                X_test_fe = X_test_hog  # Use HOG features for Random Forest\n",
        "            y_pred_proba = model.predict_proba(X_test_fe)\n",
        "        y_preds_test.append(y_pred_proba)\n",
        "\n",
        "    # Weighted averaging (weights based on model performance)\n",
        "    weights = results_df.loc[top_3_models, 'Combined_Score'].values\n",
        "    weights /= weights.sum()  # Normalize weights\n",
        "    y_weighted_avg_test = np.average(y_preds_test, axis=0, weights=weights)\n",
        "    y_weighted_avg_classes_test = np.argmax(y_weighted_avg_test, axis=1)\n",
        "\n",
        "    # Evaluate weighted averaging hybrid model on the test set\n",
        "    accuracy_test = accuracy_score(np.argmax(y_test_dl_full, axis=1), y_weighted_avg_classes_test)\n",
        "    f1_test = f1_score(np.argmax(y_test_dl_full, axis=1), y_weighted_avg_classes_test, average='weighted')\n",
        "    auc_roc_test = roc_auc_score(np.argmax(y_test_dl_full, axis=1), y_weighted_avg_test, multi_class='ovr')\n",
        "    print(\"\\nWeighted Averaging Hybrid Model Performance on Test Set:\")\n",
        "    print(f\"Accuracy: {accuracy_test}, F1-Score: {f1_test}, AUC-ROC: {auc_roc_test}\")\n",
        "\n",
        "elif best_hybrid_model == 'Stacking':\n",
        "    # Get predictions from top 3 models for the test set\n",
        "    y_preds_test = []\n",
        "    for model_name in top_3_models:\n",
        "        model = models[model_name]\n",
        "        if model_name in ['VGG16', 'ResNet50', 'DenseNet', 'CNN']:\n",
        "            y_pred_proba = model.predict(X_test_dl_full)\n",
        "        else:\n",
        "            if model_name == 'SVM':\n",
        "                X_test_fe = X_test_gabor  # Use Gabor features for SVM\n",
        "            else:\n",
        "                X_test_fe = X_test_hog  # Use HOG features for Random Forest\n",
        "            y_pred_proba = model.predict_proba(X_test_fe)\n",
        "        y_preds_test.append(y_pred_proba)\n",
        "        # Stack predictions\n",
        "    X_stack_test = np.hstack(y_preds_test)\n",
        "\n",
        "    # Evaluate stacking hybrid model on the test set\n",
        "    y_stack_pred_test = meta_learner.predict(X_stack_test)\n",
        "    y_stack_pred_proba_test = meta_learner.predict_proba(X_stack_test)\n",
        "\n",
        "    accuracy_test = accuracy_score(np.argmax(y_test_dl_full, axis=1), y_stack_pred_test)\n",
        "    f1_test = f1_score(np.argmax(y_test_dl_full, axis=1), y_stack_pred_test, average='weighted')\n",
        "    auc_roc_test = roc_auc_score(np.argmax(y_test_dl_full, axis=1), y_stack_pred_proba_test, multi_class='ovr')\n",
        "    print(\"\\nStacking Hybrid Model Performance on Test Set:\")\n",
        "    print(f\"Accuracy: {accuracy_test}, F1-Score: {f1_test}, AUC-ROC: {auc_roc_test}\")\n",
        "\n",
        "elif best_hybrid_model == 'Majority Voting':\n",
        "    # Get predictions from top 3 models for the test set\n",
        "    y_preds_test = []\n",
        "    for model_name in top_3_models:\n",
        "        model = models[model_name]\n",
        "        if model_name in ['VGG16', 'ResNet50', 'DenseNet', 'CNN']:\n",
        "            y_pred_proba = model.predict(X_test_dl_full)\n",
        "        else:\n",
        "            if model_name == 'SVM':\n",
        "                X_test_fe = X_test_gabor  # Use Gabor features for SVM\n",
        "            else:\n",
        "                X_test_fe = X_test_hog  # Use HOG features for Random Forest\n",
        "            y_pred_proba = model.predict_proba(X_test_fe)\n",
        "        y_preds_test.append(y_pred_proba)\n",
        "\n",
        "    # Majority voting\n",
        "    y_pred_classes_test = np.array([np.argmax(y_pred, axis=1) for y_pred in y_preds_test])\n",
        "    y_majority_vote_test, _ = mode(y_pred_classes_test, axis=0)\n",
        "    y_majority_vote_test = y_majority_vote_test.flatten()\n",
        "  # Evaluate majority voting hybrid model on the test set\n",
        "    accuracy_test = accuracy_score(np.argmax(y_test_dl_full, axis=1), y_majority_vote_test)\n",
        "    f1_test = f1_score(np.argmax(y_test_dl_full, axis=1), y_majority_vote_test, average='weighted')\n",
        "    auc_roc_test = roc_auc_score(np.argmax(y_test_dl_full, axis=1), np.mean(y_preds_test, axis=0), multi_class='ovr')\n",
        "    print(\"\\nMajority Voting Hybrid Model Performance on Test Set:\")\n",
        "    print(f\"Accuracy: {accuracy_test}, F1-Score: {f1_test}, AUC-ROC: {auc_roc_test}\")\n"
      ],
      "metadata": {
        "id": "lXz-Gbnqh0sY",
        "colab": {
          "base_uri": "https://localhost:8080/"
        },
        "outputId": "14aa07c9-ec41-4f53-ebfb-744dbe257ecb"
      },
      "execution_count": 19,
      "outputs": [
        {
          "output_type": "stream",
          "name": "stdout",
          "text": [
            "\u001b[1m41/41\u001b[0m \u001b[32m━━━━━━━━━━━━━━━━━━━━\u001b[0m\u001b[37m\u001b[0m \u001b[1m240s\u001b[0m 6s/step\n",
            "\u001b[1m41/41\u001b[0m \u001b[32m━━━━━━━━━━━━━━━━━━━━\u001b[0m\u001b[37m\u001b[0m \u001b[1m813s\u001b[0m 20s/step\n",
            "\n",
            "Stacking Hybrid Model Performance on Test Set:\n",
            "Accuracy: 0.8703279938977879, F1-Score: 0.8658970982004874, AUC-ROC: 0.9739805217029791\n"
          ]
        }
      ]
    },
    {
      "cell_type": "code",
      "source": [
        "import joblib\n",
        "\n",
        "# Save the best hybrid model\n",
        "if best_hybrid_model == 'Weighted Averaging':\n",
        "    # Save the top 3 models\n",
        "    for model_name in top_3_models:\n",
        "        model = models[model_name]\n",
        "        if model_name in ['VGG16', 'ResNet50', 'DenseNet', 'CNN']:\n",
        "            model.save(f'{model_name}_model.h5')\n",
        "        else:\n",
        "            joblib.dump(model, f'{model_name}_model.pkl')\n",
        "elif best_hybrid_model == 'Stacking':\n",
        "    # Save the meta-learner and top 3 models\n",
        "    joblib.dump(meta_learner, 'stacking_meta_learner.pkl')\n",
        "    for model_name in top_3_models:\n",
        "        model = models[model_name]\n",
        "        if model_name in ['VGG16', 'ResNet50', 'DenseNet', 'CNN']:\n",
        "            model.save(f'{model_name}_model.h5')\n",
        "        else:\n",
        "            joblib.dump(model, f'{model_name}_model.pkl')\n",
        "elif best_hybrid_model == 'Majority Voting':\n",
        "    # Save the top 3 models\n",
        "    for model_name in top_3_models:\n",
        "        model = models[model_name]\n",
        "        if model_name in ['VGG16', 'ResNet50', 'DenseNet', 'CNN']:\n",
        "            model.save(f'{model_name}_model.h5')\n",
        "        else:\n",
        "            joblib.dump(model, f'{model_name}_model.pkl')"
      ],
      "metadata": {
        "id": "OMMFPjzDjQ26",
        "colab": {
          "base_uri": "https://localhost:8080/"
        },
        "outputId": "449e06ab-e579-4250-a5da-a19030038ffb"
      },
      "execution_count": 20,
      "outputs": [
        {
          "output_type": "stream",
          "name": "stderr",
          "text": [
            "WARNING:absl:You are saving your model as an HDF5 file via `model.save()` or `keras.saving.save_model(model)`. This file format is considered legacy. We recommend using instead the native Keras format, e.g. `model.save('my_model.keras')` or `keras.saving.save_model(model, 'my_model.keras')`. \n",
            "WARNING:absl:You are saving your model as an HDF5 file via `model.save()` or `keras.saving.save_model(model)`. This file format is considered legacy. We recommend using instead the native Keras format, e.g. `model.save('my_model.keras')` or `keras.saving.save_model(model, 'my_model.keras')`. \n"
          ]
        }
      ]
    },
    {
      "cell_type": "code",
      "source": [
        "import cv2\n",
        "import numpy as np\n",
        "import joblib\n",
        "from tensorflow.keras.models import load_model\n",
        "from scipy.stats import mode\n",
        "from google.colab import files\n",
        "from skimage.feature import hog  # Import HOG feature extractor\n",
        "\n",
        "def extract_hog_features(image):\n",
        "    # Ensure the image is large enough for HOG feature extraction\n",
        "    min_size = 16  # Minimum size required by HOG\n",
        "    if image.shape[0] < min_size or image.shape[1] < min_size:\n",
        "        # Resize the image to meet the minimum size requirement\n",
        "        image = cv2.resize(image, (min_size, min_size))\n",
        "\n",
        "    # Extract HOG features\n",
        "    features = hog(\n",
        "        image,\n",
        "        orientations=9,  # Number of orientation bins\n",
        "        pixels_per_cell=(8, 8),  # Size of a cell\n",
        "        cells_per_block=(2, 2),  # Number of cells in each block\n",
        "        block_norm='L2-Hys',  # Normalization method\n",
        "        visualize=False,  # Do not return the HOG image\n",
        "        feature_vector=True  # Return features as a 1D array\n",
        "    )\n",
        "    return features.reshape(1, -1)  # Reshape to match input format for classifiers\n",
        "\n",
        "def predict_with_hybrid_model(image_path):\n",
        "    # Load the image and preprocess it\n",
        "    img = cv2.imread(image_path, cv2.IMREAD_GRAYSCALE)  # Load as grayscale\n",
        "    img = cv2.resize(img, (224, 224))  # Resize to 224x224\n",
        "    img = img / 255.0  # Normalize\n",
        "    img = np.expand_dims(img, axis=-1)  # Add channel dimension (1 channel)\n",
        "    img = np.repeat(img, 3, axis=-1)  # Convert to 3 channels (RGB)\n",
        "    img = np.expand_dims(img, axis=0)  # Add batch dimension (1, 224, 224, 3)\n",
        "\n",
        "    # Load the top 3 models\n",
        "    top_models = {}\n",
        "    for model_name in top_3_models:\n",
        "        if model_name in ['VGG16', 'ResNet50', 'DenseNet', 'CNN']:\n",
        "            top_models[model_name] = load_model(f'{model_name}_model.h5')\n",
        "        else:\n",
        "            top_models[model_name] = joblib.load(f'{model_name}_model.pkl')\n",
        "\n",
        "    # Get predictions from the top 3 models\n",
        "    y_preds = []\n",
        "    for model_name, model in top_models.items():\n",
        "        if model_name in ['VGG16', 'ResNet50', 'DenseNet', 'CNN']:\n",
        "            y_pred_proba = model.predict(img)  # Predict using deep learning models\n",
        "        else:\n",
        "            if model_name == 'SVM':\n",
        "                features = extract_gabor_features(img[0, :, :, 0])  # Extract features from grayscale\n",
        "            else:\n",
        "                features = extract_hog_features(img[0, :, :, 0])  # Extract features from grayscale\n",
        "            y_pred_proba = model.predict_proba(features)\n",
        "        y_preds.append(y_pred_proba)\n",
        "\n",
        "    # Combine predictions based on the best hybrid model\n",
        "    if best_hybrid_model == 'Weighted Averaging':\n",
        "        weights = results_df.loc[top_3_models, 'Combined_Score'].values\n",
        "        weights /= weights.sum()  # Normalize weights\n",
        "        y_weighted_avg = np.average(y_preds, axis=0, weights=weights)\n",
        "        final_pred = np.argmax(y_weighted_avg, axis=1)\n",
        "    elif best_hybrid_model == 'Stacking':\n",
        "        X_stack = np.hstack(y_preds)\n",
        "        meta_learner = joblib.load('stacking_meta_learner.pkl')\n",
        "        final_pred = meta_learner.predict(X_stack)\n",
        "    elif best_hybrid_model == 'Majority Voting':\n",
        "        y_pred_classes = np.array([np.argmax(y_pred, axis=1) for y_pred in y_preds])\n",
        "        final_pred, _ = mode(y_pred_classes, axis=0)\n",
        "        final_pred = final_pred.flatten()\n",
        "\n",
        "    # Map prediction to class label\n",
        "    class_labels = ['glioma', 'meningioma', 'notumor', 'pituitary']\n",
        "    return class_labels[final_pred[0]]\n",
        "\n",
        "# Upload an image using Google Colab's file uploader\n",
        "uploaded = files.upload()\n",
        "image_path = next(iter(uploaded))\n",
        "\n",
        "# Make a prediction\n",
        "if image_path:\n",
        "    prediction = predict_with_hybrid_model(image_path)\n",
        "    print(\"Predicted Class:\", prediction)\n",
        "else:\n",
        "    print(\"No image selected.\")"
      ],
      "metadata": {
        "id": "RZkcuQpiZjVF",
        "colab": {
          "base_uri": "https://localhost:8080/",
          "height": 197
        },
        "outputId": "87243a19-fb5c-4550-b172-cac8fec95947"
      },
      "execution_count": 27,
      "outputs": [
        {
          "output_type": "display_data",
          "data": {
            "text/plain": [
              "<IPython.core.display.HTML object>"
            ],
            "text/html": [
              "\n",
              "     <input type=\"file\" id=\"files-ab94fbe6-ec34-4c87-a707-6fe065f3b269\" name=\"files[]\" multiple disabled\n",
              "        style=\"border:none\" />\n",
              "     <output id=\"result-ab94fbe6-ec34-4c87-a707-6fe065f3b269\">\n",
              "      Upload widget is only available when the cell has been executed in the\n",
              "      current browser session. Please rerun this cell to enable.\n",
              "      </output>\n",
              "      <script>// Copyright 2017 Google LLC\n",
              "//\n",
              "// Licensed under the Apache License, Version 2.0 (the \"License\");\n",
              "// you may not use this file except in compliance with the License.\n",
              "// You may obtain a copy of the License at\n",
              "//\n",
              "//      http://www.apache.org/licenses/LICENSE-2.0\n",
              "//\n",
              "// Unless required by applicable law or agreed to in writing, software\n",
              "// distributed under the License is distributed on an \"AS IS\" BASIS,\n",
              "// WITHOUT WARRANTIES OR CONDITIONS OF ANY KIND, either express or implied.\n",
              "// See the License for the specific language governing permissions and\n",
              "// limitations under the License.\n",
              "\n",
              "/**\n",
              " * @fileoverview Helpers for google.colab Python module.\n",
              " */\n",
              "(function(scope) {\n",
              "function span(text, styleAttributes = {}) {\n",
              "  const element = document.createElement('span');\n",
              "  element.textContent = text;\n",
              "  for (const key of Object.keys(styleAttributes)) {\n",
              "    element.style[key] = styleAttributes[key];\n",
              "  }\n",
              "  return element;\n",
              "}\n",
              "\n",
              "// Max number of bytes which will be uploaded at a time.\n",
              "const MAX_PAYLOAD_SIZE = 100 * 1024;\n",
              "\n",
              "function _uploadFiles(inputId, outputId) {\n",
              "  const steps = uploadFilesStep(inputId, outputId);\n",
              "  const outputElement = document.getElementById(outputId);\n",
              "  // Cache steps on the outputElement to make it available for the next call\n",
              "  // to uploadFilesContinue from Python.\n",
              "  outputElement.steps = steps;\n",
              "\n",
              "  return _uploadFilesContinue(outputId);\n",
              "}\n",
              "\n",
              "// This is roughly an async generator (not supported in the browser yet),\n",
              "// where there are multiple asynchronous steps and the Python side is going\n",
              "// to poll for completion of each step.\n",
              "// This uses a Promise to block the python side on completion of each step,\n",
              "// then passes the result of the previous step as the input to the next step.\n",
              "function _uploadFilesContinue(outputId) {\n",
              "  const outputElement = document.getElementById(outputId);\n",
              "  const steps = outputElement.steps;\n",
              "\n",
              "  const next = steps.next(outputElement.lastPromiseValue);\n",
              "  return Promise.resolve(next.value.promise).then((value) => {\n",
              "    // Cache the last promise value to make it available to the next\n",
              "    // step of the generator.\n",
              "    outputElement.lastPromiseValue = value;\n",
              "    return next.value.response;\n",
              "  });\n",
              "}\n",
              "\n",
              "/**\n",
              " * Generator function which is called between each async step of the upload\n",
              " * process.\n",
              " * @param {string} inputId Element ID of the input file picker element.\n",
              " * @param {string} outputId Element ID of the output display.\n",
              " * @return {!Iterable<!Object>} Iterable of next steps.\n",
              " */\n",
              "function* uploadFilesStep(inputId, outputId) {\n",
              "  const inputElement = document.getElementById(inputId);\n",
              "  inputElement.disabled = false;\n",
              "\n",
              "  const outputElement = document.getElementById(outputId);\n",
              "  outputElement.innerHTML = '';\n",
              "\n",
              "  const pickedPromise = new Promise((resolve) => {\n",
              "    inputElement.addEventListener('change', (e) => {\n",
              "      resolve(e.target.files);\n",
              "    });\n",
              "  });\n",
              "\n",
              "  const cancel = document.createElement('button');\n",
              "  inputElement.parentElement.appendChild(cancel);\n",
              "  cancel.textContent = 'Cancel upload';\n",
              "  const cancelPromise = new Promise((resolve) => {\n",
              "    cancel.onclick = () => {\n",
              "      resolve(null);\n",
              "    };\n",
              "  });\n",
              "\n",
              "  // Wait for the user to pick the files.\n",
              "  const files = yield {\n",
              "    promise: Promise.race([pickedPromise, cancelPromise]),\n",
              "    response: {\n",
              "      action: 'starting',\n",
              "    }\n",
              "  };\n",
              "\n",
              "  cancel.remove();\n",
              "\n",
              "  // Disable the input element since further picks are not allowed.\n",
              "  inputElement.disabled = true;\n",
              "\n",
              "  if (!files) {\n",
              "    return {\n",
              "      response: {\n",
              "        action: 'complete',\n",
              "      }\n",
              "    };\n",
              "  }\n",
              "\n",
              "  for (const file of files) {\n",
              "    const li = document.createElement('li');\n",
              "    li.append(span(file.name, {fontWeight: 'bold'}));\n",
              "    li.append(span(\n",
              "        `(${file.type || 'n/a'}) - ${file.size} bytes, ` +\n",
              "        `last modified: ${\n",
              "            file.lastModifiedDate ? file.lastModifiedDate.toLocaleDateString() :\n",
              "                                    'n/a'} - `));\n",
              "    const percent = span('0% done');\n",
              "    li.appendChild(percent);\n",
              "\n",
              "    outputElement.appendChild(li);\n",
              "\n",
              "    const fileDataPromise = new Promise((resolve) => {\n",
              "      const reader = new FileReader();\n",
              "      reader.onload = (e) => {\n",
              "        resolve(e.target.result);\n",
              "      };\n",
              "      reader.readAsArrayBuffer(file);\n",
              "    });\n",
              "    // Wait for the data to be ready.\n",
              "    let fileData = yield {\n",
              "      promise: fileDataPromise,\n",
              "      response: {\n",
              "        action: 'continue',\n",
              "      }\n",
              "    };\n",
              "\n",
              "    // Use a chunked sending to avoid message size limits. See b/62115660.\n",
              "    let position = 0;\n",
              "    do {\n",
              "      const length = Math.min(fileData.byteLength - position, MAX_PAYLOAD_SIZE);\n",
              "      const chunk = new Uint8Array(fileData, position, length);\n",
              "      position += length;\n",
              "\n",
              "      const base64 = btoa(String.fromCharCode.apply(null, chunk));\n",
              "      yield {\n",
              "        response: {\n",
              "          action: 'append',\n",
              "          file: file.name,\n",
              "          data: base64,\n",
              "        },\n",
              "      };\n",
              "\n",
              "      let percentDone = fileData.byteLength === 0 ?\n",
              "          100 :\n",
              "          Math.round((position / fileData.byteLength) * 100);\n",
              "      percent.textContent = `${percentDone}% done`;\n",
              "\n",
              "    } while (position < fileData.byteLength);\n",
              "  }\n",
              "\n",
              "  // All done.\n",
              "  yield {\n",
              "    response: {\n",
              "      action: 'complete',\n",
              "    }\n",
              "  };\n",
              "}\n",
              "\n",
              "scope.google = scope.google || {};\n",
              "scope.google.colab = scope.google.colab || {};\n",
              "scope.google.colab._files = {\n",
              "  _uploadFiles,\n",
              "  _uploadFilesContinue,\n",
              "};\n",
              "})(self);\n",
              "</script> "
            ]
          },
          "metadata": {}
        },
        {
          "output_type": "stream",
          "name": "stdout",
          "text": [
            "Saving Y12.jpg to Y12.jpg\n"
          ]
        },
        {
          "output_type": "stream",
          "name": "stderr",
          "text": [
            "WARNING:absl:Compiled the loaded model, but the compiled metrics have yet to be built. `model.compile_metrics` will be empty until you train or evaluate the model.\n",
            "WARNING:absl:Compiled the loaded model, but the compiled metrics have yet to be built. `model.compile_metrics` will be empty until you train or evaluate the model.\n",
            "WARNING:tensorflow:6 out of the last 142 calls to <function TensorFlowTrainer.make_predict_function.<locals>.one_step_on_data_distributed at 0x7a4d64af7b00> triggered tf.function retracing. Tracing is expensive and the excessive number of tracings could be due to (1) creating @tf.function repeatedly in a loop, (2) passing tensors with different shapes, (3) passing Python objects instead of tensors. For (1), please define your @tf.function outside of the loop. For (2), @tf.function has reduce_retracing=True option that can avoid unnecessary retracing. For (3), please refer to https://www.tensorflow.org/guide/function#controlling_retracing and https://www.tensorflow.org/api_docs/python/tf/function for  more details.\n"
          ]
        },
        {
          "output_type": "stream",
          "name": "stdout",
          "text": [
            "\u001b[1m1/1\u001b[0m \u001b[32m━━━━━━━━━━━━━━━━━━━━\u001b[0m\u001b[37m\u001b[0m \u001b[1m4s\u001b[0m 4s/step\n",
            "\u001b[1m1/1\u001b[0m \u001b[32m━━━━━━━━━━━━━━━━━━━━\u001b[0m\u001b[37m\u001b[0m \u001b[1m1s\u001b[0m 945ms/step\n",
            "Predicted Class: pituitary\n"
          ]
        }
      ]
    }
  ],
  "metadata": {
    "colab": {
      "provenance": [],
      "gpuType": "T4",
      "include_colab_link": true
    },
    "kernelspec": {
      "display_name": "Python 3",
      "name": "python3"
    },
    "language_info": {
      "name": "python"
    },
    "accelerator": "GPU"
  },
  "nbformat": 4,
  "nbformat_minor": 0
}